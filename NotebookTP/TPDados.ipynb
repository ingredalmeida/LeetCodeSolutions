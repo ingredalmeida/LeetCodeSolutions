{
  "cells": [
    {
      "cell_type": "markdown",
      "id": "9ddc8803",
      "metadata": {
        "id": "9ddc8803"
      },
      "source": [
        "<a href=\"https://colab.research.google.com/github/ThulioSilva13/ProjetoCienciaDeDados/blob/main/TPDados.ipynb\" target=\"_parent\"><img src=\"https://colab.research.google.com/assets/colab-badge.svg\" alt=\"Open In Colab\"/></a>"
      ]
    },
    {
      "cell_type": "markdown",
      "id": "5b7b662a",
      "metadata": {
        "id": "5b7b662a"
      },
      "source": [
        "## **Descrição do projeto**\n",
        "> O projeto tem o foco em desenvolver um modelo capaz de medir a taxa de evasão dos alunos do curso de Ciência da Computação da Universidade Federal de Viçosa - Campus Florestal,  onde são classificados de acordo com alguns parâmetros como idade, gênero, data de ingresso no curso, raça, cidade onde vivia antes de se mudar para as aulas, nota obtida no ENEM, CRA, modalidade de ingresso e o número de reprovações."
      ]
    },
    {
      "cell_type": "code",
      "execution_count": null,
      "id": "AEPiqlUeh7Ii",
      "metadata": {
        "colab": {
          "base_uri": "https://localhost:8080/"
        },
        "id": "AEPiqlUeh7Ii",
        "outputId": "756012b3-5010-4a00-b4d0-3afcaaa9921a"
      },
      "outputs": [
        {
          "name": "stdout",
          "output_type": "stream",
          "text": [
            "Drive already mounted at /content/drive; to attempt to forcibly remount, call drive.mount(\"/content/drive\", force_remount=True).\n"
          ]
        }
      ],
      "source": [
        "from google.colab import drive\n",
        "drive.mount('/content/drive')"
      ]
    },
    {
      "cell_type": "markdown",
      "id": "XBRyOkZ1DwnY",
      "metadata": {
        "id": "XBRyOkZ1DwnY"
      },
      "source": [
        "## **Bibliotecas utilizadas**"
      ]
    },
    {
      "cell_type": "code",
      "execution_count": null,
      "id": "l9MboQlGoEM4",
      "metadata": {
        "colab": {
          "base_uri": "https://localhost:8080/"
        },
        "id": "l9MboQlGoEM4",
        "outputId": "e4724a5d-b164-4704-89fe-9b427072ee62"
      },
      "outputs": [
        {
          "name": "stdout",
          "output_type": "stream",
          "text": [
            "Requirement already satisfied: fuzzywuzzy in c:\\python\\python311\\lib\\site-packages (0.18.0)\n",
            "Requirement already satisfied: pandas_ods_reader in c:\\python\\python311\\lib\\site-packages (0.1.4)\n",
            "Requirement already satisfied: ezodf<0.4.0,>=0.3.2 in c:\\python\\python311\\lib\\site-packages (from pandas_ods_reader) (0.3.2)\n",
            "Requirement already satisfied: lxml<5.0.0,>=4.6.3 in c:\\python\\python311\\lib\\site-packages (from pandas_ods_reader) (4.9.2)\n",
            "Requirement already satisfied: pandas<2.0.0,>=1.0.0 in c:\\python\\python311\\lib\\site-packages (from pandas_ods_reader) (1.5.2)\n",
            "Requirement already satisfied: python-dateutil>=2.8.1 in c:\\python\\python311\\lib\\site-packages (from pandas<2.0.0,>=1.0.0->pandas_ods_reader) (2.8.2)\n",
            "Requirement already satisfied: pytz>=2020.1 in c:\\python\\python311\\lib\\site-packages (from pandas<2.0.0,>=1.0.0->pandas_ods_reader) (2022.7.1)\n",
            "Requirement already satisfied: numpy>=1.21.0 in c:\\python\\python311\\lib\\site-packages (from pandas<2.0.0,>=1.0.0->pandas_ods_reader) (1.23.5)\n",
            "Requirement already satisfied: six>=1.5 in c:\\python\\python311\\lib\\site-packages (from python-dateutil>=2.8.1->pandas<2.0.0,>=1.0.0->pandas_ods_reader) (1.16.0)\n",
            "Collecting unidecode\n",
            "  Using cached Unidecode-1.3.6-py3-none-any.whl (235 kB)\n",
            "Installing collected packages: unidecode\n",
            "Successfully installed unidecode-1.3.6\n"
          ]
        }
      ],
      "source": [
        "!pip install fuzzywuzzy\n",
        "!pip install pandas_ods_reader\n",
        "!pip install unidecode"
      ]
    },
    {
      "cell_type": "code",
      "execution_count": null,
      "id": "d0b02d5a",
      "metadata": {
        "id": "d0b02d5a"
      },
      "outputs": [],
      "source": [
        "### NÃO REMOVA ESSA CÉLULA!! ###\n",
        "import pandas as pd\n",
        "import numpy as np\n",
        "import matplotlib.pyplot as plt\n",
        "import unicodedata\n",
        "from fuzzywuzzy import fuzz\n",
        "from pandas_ods_reader import read_ods\n",
        "from fuzzywuzzy import process\n",
        "from scipy.stats import chi2_contingency\n",
        "import scipy.stats as stats\n",
        "import statsmodels.stats.proportion as proportion\n",
        "import seaborn as sns\n",
        "from unidecode import unidecode\n",
        "import unicodedata"
      ]
    },
    {
      "cell_type": "markdown",
      "id": "9mhIGSrGEHlL",
      "metadata": {
        "id": "9mhIGSrGEHlL"
      },
      "source": [
        "## **Leitura dos dados**"
      ]
    },
    {
      "cell_type": "code",
      "execution_count": null,
      "id": "L8LpNR2tFIuU",
      "metadata": {
        "colab": {
          "base_uri": "https://localhost:8080/",
          "height": 904
        },
        "id": "L8LpNR2tFIuU",
        "outputId": "8df394c1-c93c-4395-d475-659914727ade"
      },
      "outputs": [
        {
          "data": {
            "text/html": [
              "<div>\n",
              "<style scoped>\n",
              "    .dataframe tbody tr th:only-of-type {\n",
              "        vertical-align: middle;\n",
              "    }\n",
              "\n",
              "    .dataframe tbody tr th {\n",
              "        vertical-align: top;\n",
              "    }\n",
              "\n",
              "    .dataframe thead th {\n",
              "        text-align: right;\n",
              "    }\n",
              "</style>\n",
              "<table border=\"1\" class=\"dataframe\">\n",
              "  <thead>\n",
              "    <tr style=\"text-align: right;\">\n",
              "      <th></th>\n",
              "      <th>Identificador</th>\n",
              "      <th>Ano_Nascimento</th>\n",
              "      <th>Sexo</th>\n",
              "      <th>Campus</th>\n",
              "      <th>Curso_Identificador</th>\n",
              "      <th>Curso</th>\n",
              "      <th>UF_Nascimento</th>\n",
              "      <th>Municipio_Nascimento</th>\n",
              "      <th>Admissao</th>\n",
              "      <th>Saida</th>\n",
              "      <th>Codigo_Situacao_Aluno</th>\n",
              "      <th>Situacao_Aluno</th>\n",
              "      <th>Situacao_Aluno_Agrupada</th>\n",
              "      <th>Modalidade_Inscrita</th>\n",
              "      <th>ENEM</th>\n",
              "      <th>Num_Reprovacoes</th>\n",
              "      <th>Raca</th>\n",
              "      <th>CRA</th>\n",
              "    </tr>\n",
              "  </thead>\n",
              "  <tbody>\n",
              "    <tr>\n",
              "      <th>0</th>\n",
              "      <td>29271.0</td>\n",
              "      <td>1982.0</td>\n",
              "      <td>M</td>\n",
              "      <td>CAV</td>\n",
              "      <td>1101.0</td>\n",
              "      <td>CAV - Administração</td>\n",
              "      <td>RJ</td>\n",
              "      <td>VOLTA REDONDA</td>\n",
              "      <td>2000/1</td>\n",
              "      <td>2000/1</td>\n",
              "      <td>A</td>\n",
              "      <td>Abandono                                      ...</td>\n",
              "      <td>Evasão</td>\n",
              "      <td>0.0</td>\n",
              "      <td>NaN</td>\n",
              "      <td>0.0</td>\n",
              "      <td>Informação não disponível</td>\n",
              "      <td>0.0</td>\n",
              "    </tr>\n",
              "    <tr>\n",
              "      <th>1</th>\n",
              "      <td>29272.0</td>\n",
              "      <td>1982.0</td>\n",
              "      <td>M</td>\n",
              "      <td>CAV</td>\n",
              "      <td>1101.0</td>\n",
              "      <td>CAV - Administração</td>\n",
              "      <td>DF</td>\n",
              "      <td>Brasília</td>\n",
              "      <td>2000/1</td>\n",
              "      <td>2002/1</td>\n",
              "      <td>A</td>\n",
              "      <td>Abandono                                      ...</td>\n",
              "      <td>Evasão</td>\n",
              "      <td>0.0</td>\n",
              "      <td>NaN</td>\n",
              "      <td>3.0</td>\n",
              "      <td>Informação não disponível</td>\n",
              "      <td>71.2</td>\n",
              "    </tr>\n",
              "    <tr>\n",
              "      <th>2</th>\n",
              "      <td>34462.0</td>\n",
              "      <td>1979.0</td>\n",
              "      <td>F</td>\n",
              "      <td>CAV</td>\n",
              "      <td>1101.0</td>\n",
              "      <td>CAV - Administração</td>\n",
              "      <td>MG</td>\n",
              "      <td>Viçosa</td>\n",
              "      <td>2000/1</td>\n",
              "      <td>2005/1</td>\n",
              "      <td>C</td>\n",
              "      <td>Conclusão                                     ...</td>\n",
              "      <td>Conclusão</td>\n",
              "      <td>0.0</td>\n",
              "      <td>NaN</td>\n",
              "      <td>3.0</td>\n",
              "      <td>Informação não disponível</td>\n",
              "      <td>78.5</td>\n",
              "    </tr>\n",
              "    <tr>\n",
              "      <th>3</th>\n",
              "      <td>34468.0</td>\n",
              "      <td>1979.0</td>\n",
              "      <td>F</td>\n",
              "      <td>CAV</td>\n",
              "      <td>1101.0</td>\n",
              "      <td>CAV - Administração</td>\n",
              "      <td>MG</td>\n",
              "      <td>Belo Horizonte</td>\n",
              "      <td>2000/1</td>\n",
              "      <td>2006/1</td>\n",
              "      <td>C</td>\n",
              "      <td>Conclusão                                     ...</td>\n",
              "      <td>Conclusão</td>\n",
              "      <td>0.0</td>\n",
              "      <td>NaN</td>\n",
              "      <td>20.0</td>\n",
              "      <td>Pardo(a)</td>\n",
              "      <td>56.0</td>\n",
              "    </tr>\n",
              "    <tr>\n",
              "      <th>4</th>\n",
              "      <td>34470.0</td>\n",
              "      <td>1980.0</td>\n",
              "      <td>F</td>\n",
              "      <td>CAV</td>\n",
              "      <td>1101.0</td>\n",
              "      <td>CAV - Administração</td>\n",
              "      <td>SP</td>\n",
              "      <td>São Paulo</td>\n",
              "      <td>2000/1</td>\n",
              "      <td>2004/2</td>\n",
              "      <td>C</td>\n",
              "      <td>Conclusão                                     ...</td>\n",
              "      <td>Conclusão</td>\n",
              "      <td>0.0</td>\n",
              "      <td>NaN</td>\n",
              "      <td>1.0</td>\n",
              "      <td>Informação não disponível</td>\n",
              "      <td>76.9</td>\n",
              "    </tr>\n",
              "    <tr>\n",
              "      <th>...</th>\n",
              "      <td>...</td>\n",
              "      <td>...</td>\n",
              "      <td>...</td>\n",
              "      <td>...</td>\n",
              "      <td>...</td>\n",
              "      <td>...</td>\n",
              "      <td>...</td>\n",
              "      <td>...</td>\n",
              "      <td>...</td>\n",
              "      <td>...</td>\n",
              "      <td>...</td>\n",
              "      <td>...</td>\n",
              "      <td>...</td>\n",
              "      <td>...</td>\n",
              "      <td>...</td>\n",
              "      <td>...</td>\n",
              "      <td>...</td>\n",
              "      <td>...</td>\n",
              "    </tr>\n",
              "    <tr>\n",
              "      <th>74021</th>\n",
              "      <td>172112.0</td>\n",
              "      <td>1996.0</td>\n",
              "      <td>None</td>\n",
              "      <td>CAV</td>\n",
              "      <td>1153.0</td>\n",
              "      <td>CAV - Bacharelado em Educação Física</td>\n",
              "      <td>None</td>\n",
              "      <td>None</td>\n",
              "      <td>2023/1</td>\n",
              "      <td>0.0</td>\n",
              "      <td>N</td>\n",
              "      <td>Normal                                        ...</td>\n",
              "      <td>Matriculado</td>\n",
              "      <td>0.0</td>\n",
              "      <td>NaN</td>\n",
              "      <td>0.0</td>\n",
              "      <td>Informação não disponível</td>\n",
              "      <td>0.0</td>\n",
              "    </tr>\n",
              "    <tr>\n",
              "      <th>74022</th>\n",
              "      <td>172110.0</td>\n",
              "      <td>1995.0</td>\n",
              "      <td>None</td>\n",
              "      <td>CAV</td>\n",
              "      <td>1153.0</td>\n",
              "      <td>CAV - Bacharelado em Educação Física</td>\n",
              "      <td>None</td>\n",
              "      <td>None</td>\n",
              "      <td>2023/1</td>\n",
              "      <td>0.0</td>\n",
              "      <td>N</td>\n",
              "      <td>Normal                                        ...</td>\n",
              "      <td>Matriculado</td>\n",
              "      <td>0.0</td>\n",
              "      <td>NaN</td>\n",
              "      <td>0.0</td>\n",
              "      <td>Informação não disponível</td>\n",
              "      <td>NaN</td>\n",
              "    </tr>\n",
              "    <tr>\n",
              "      <th>74023</th>\n",
              "      <td>172113.0</td>\n",
              "      <td>1996.0</td>\n",
              "      <td>None</td>\n",
              "      <td>CAV</td>\n",
              "      <td>1153.0</td>\n",
              "      <td>CAV - Bacharelado em Educação Física</td>\n",
              "      <td>None</td>\n",
              "      <td>None</td>\n",
              "      <td>2023/1</td>\n",
              "      <td>0.0</td>\n",
              "      <td>N</td>\n",
              "      <td>Normal                                        ...</td>\n",
              "      <td>Matriculado</td>\n",
              "      <td>0.0</td>\n",
              "      <td>NaN</td>\n",
              "      <td>0.0</td>\n",
              "      <td>Informação não disponível</td>\n",
              "      <td>NaN</td>\n",
              "    </tr>\n",
              "    <tr>\n",
              "      <th>74024</th>\n",
              "      <td>172114.0</td>\n",
              "      <td>1998.0</td>\n",
              "      <td>None</td>\n",
              "      <td>CAV</td>\n",
              "      <td>1153.0</td>\n",
              "      <td>CAV - Bacharelado em Educação Física</td>\n",
              "      <td>None</td>\n",
              "      <td>None</td>\n",
              "      <td>2023/1</td>\n",
              "      <td>0.0</td>\n",
              "      <td>N</td>\n",
              "      <td>Normal                                        ...</td>\n",
              "      <td>Matriculado</td>\n",
              "      <td>0.0</td>\n",
              "      <td>NaN</td>\n",
              "      <td>0.0</td>\n",
              "      <td>Informação não disponível</td>\n",
              "      <td>NaN</td>\n",
              "    </tr>\n",
              "    <tr>\n",
              "      <th>74025</th>\n",
              "      <td>172082.0</td>\n",
              "      <td>2000.0</td>\n",
              "      <td>None</td>\n",
              "      <td>CAV</td>\n",
              "      <td>1153.0</td>\n",
              "      <td>CAV - Bacharelado em Educação Física</td>\n",
              "      <td>None</td>\n",
              "      <td>None</td>\n",
              "      <td>2023/1</td>\n",
              "      <td>0.0</td>\n",
              "      <td>N</td>\n",
              "      <td>Normal                                        ...</td>\n",
              "      <td>Matriculado</td>\n",
              "      <td>0.0</td>\n",
              "      <td>NaN</td>\n",
              "      <td>0.0</td>\n",
              "      <td>Informação não disponível</td>\n",
              "      <td>0.0</td>\n",
              "    </tr>\n",
              "  </tbody>\n",
              "</table>\n",
              "<p>74026 rows × 18 columns</p>\n",
              "</div>"
            ],
            "text/plain": [
              "       Identificador  Ano_Nascimento  Sexo Campus  Curso_Identificador  \\\n",
              "0            29271.0          1982.0     M    CAV               1101.0   \n",
              "1            29272.0          1982.0     M    CAV               1101.0   \n",
              "2            34462.0          1979.0     F    CAV               1101.0   \n",
              "3            34468.0          1979.0     F    CAV               1101.0   \n",
              "4            34470.0          1980.0     F    CAV               1101.0   \n",
              "...              ...             ...   ...    ...                  ...   \n",
              "74021       172112.0          1996.0  None    CAV               1153.0   \n",
              "74022       172110.0          1995.0  None    CAV               1153.0   \n",
              "74023       172113.0          1996.0  None    CAV               1153.0   \n",
              "74024       172114.0          1998.0  None    CAV               1153.0   \n",
              "74025       172082.0          2000.0  None    CAV               1153.0   \n",
              "\n",
              "                                      Curso UF_Nascimento  \\\n",
              "0                       CAV - Administração            RJ   \n",
              "1                       CAV - Administração            DF   \n",
              "2                       CAV - Administração            MG   \n",
              "3                       CAV - Administração            MG   \n",
              "4                       CAV - Administração            SP   \n",
              "...                                     ...           ...   \n",
              "74021  CAV - Bacharelado em Educação Física          None   \n",
              "74022  CAV - Bacharelado em Educação Física          None   \n",
              "74023  CAV - Bacharelado em Educação Física          None   \n",
              "74024  CAV - Bacharelado em Educação Física          None   \n",
              "74025  CAV - Bacharelado em Educação Física          None   \n",
              "\n",
              "                 Municipio_Nascimento Admissao   Saida Codigo_Situacao_Aluno  \\\n",
              "0      VOLTA REDONDA                    2000/1  2000/1                     A   \n",
              "1                            Brasília   2000/1  2002/1                     A   \n",
              "2                              Viçosa   2000/1  2005/1                     C   \n",
              "3                      Belo Horizonte   2000/1  2006/1                     C   \n",
              "4                           São Paulo   2000/1  2004/2                     C   \n",
              "...                               ...      ...     ...                   ...   \n",
              "74021                            None   2023/1     0.0                     N   \n",
              "74022                            None   2023/1     0.0                     N   \n",
              "74023                            None   2023/1     0.0                     N   \n",
              "74024                            None   2023/1     0.0                     N   \n",
              "74025                            None   2023/1     0.0                     N   \n",
              "\n",
              "                                          Situacao_Aluno  \\\n",
              "0      Abandono                                      ...   \n",
              "1      Abandono                                      ...   \n",
              "2      Conclusão                                     ...   \n",
              "3      Conclusão                                     ...   \n",
              "4      Conclusão                                     ...   \n",
              "...                                                  ...   \n",
              "74021  Normal                                        ...   \n",
              "74022  Normal                                        ...   \n",
              "74023  Normal                                        ...   \n",
              "74024  Normal                                        ...   \n",
              "74025  Normal                                        ...   \n",
              "\n",
              "      Situacao_Aluno_Agrupada  Modalidade_Inscrita  ENEM  Num_Reprovacoes  \\\n",
              "0                      Evasão                  0.0   NaN              0.0   \n",
              "1                      Evasão                  0.0   NaN              3.0   \n",
              "2                   Conclusão                  0.0   NaN              3.0   \n",
              "3                   Conclusão                  0.0   NaN             20.0   \n",
              "4                   Conclusão                  0.0   NaN              1.0   \n",
              "...                       ...                  ...   ...              ...   \n",
              "74021             Matriculado                  0.0   NaN              0.0   \n",
              "74022             Matriculado                  0.0   NaN              0.0   \n",
              "74023             Matriculado                  0.0   NaN              0.0   \n",
              "74024             Matriculado                  0.0   NaN              0.0   \n",
              "74025             Matriculado                  0.0   NaN              0.0   \n",
              "\n",
              "                            Raca   CRA  \n",
              "0      Informação não disponível   0.0  \n",
              "1      Informação não disponível  71.2  \n",
              "2      Informação não disponível  78.5  \n",
              "3                       Pardo(a)  56.0  \n",
              "4      Informação não disponível  76.9  \n",
              "...                          ...   ...  \n",
              "74021  Informação não disponível   0.0  \n",
              "74022  Informação não disponível   NaN  \n",
              "74023  Informação não disponível   NaN  \n",
              "74024  Informação não disponível   NaN  \n",
              "74025  Informação não disponível   0.0  \n",
              "\n",
              "[74026 rows x 18 columns]"
            ]
          },
          "execution_count": 5,
          "metadata": {},
          "output_type": "execute_result"
        }
      ],
      "source": [
        "dados = read_ods('dados1.ods')\n",
        "dados"
      ]
    },
    {
      "cell_type": "markdown",
      "id": "0a7650c3",
      "metadata": {
        "id": "0a7650c3"
      },
      "source": [
        "## **Análise inicial dos dados**\n"
      ]
    },
    {
      "cell_type": "markdown",
      "id": "-yYE7O28HeVv",
      "metadata": {
        "id": "-yYE7O28HeVv"
      },
      "source": [
        "> Inicialmente foi feita uma análise inicial dos atributos, observando fatores como o nome da coluna, o tipo de dado, os valores, dentre outros aspectos. Abaixo são listadas as observações:\n",
        "\n",
        "> 1. Ao analisar os dados, percebeu-se que alguns possuem incompatibilidade em alguns campos, como por exemplo:\n",
        " - Não são todos os alunos que possuem valores na coluna contendo a nota do ENEM\n",
        " - Alguns campos que deveriam ter o preenchimento obrigatório, como as colunas Sexo e UF_Nascimento, estão valores NaN.\n",
        "  - Alguns alunos possuem modalidade de ingresso com valor igual a zero. Desse modo, após pesquisar sobre o significado da modadlidade 0, descobriu-se que se refere ao campo de \"Ampla Concorrência\", entretanto, o valor de modalidade 9 também se refere a esse mesmo campo. Portanto, vale observar essa semelhança entre os dados para que futuramente no projeto evite falhas na observação e conclusão na análise desses dados.\n",
        "\n",
        "> 2. Outra observação realizada, foi a relação entre a modalidade de ingresso e a nota obtida no ENEM, alguns alunos tem o campo preenchido com a nota do ENEM que usaram quando entraram na universidade, mas porém não consta em qual modalidade ele foi classificado. O mesmo se aplica no caso contrário, alguns alunos não possuem a nota do ENEM, mas na coluna da modalidade de ingresso, consta um valor.\n",
        "\n",
        "> 3. Ao examinarmos o campo Situacao_Aluno, é possível perceber que ele possui diversos tipos de valores, como por exemplo, Conclusão, Desligamento, Abandono, Transferência, entre outros. Já ao observarmos o campo Situacao_Aluno_Agrupado, os valores se resumem a Conclusão, Evasão, Retenção e Matriculado. Após análises, percebeu-se que uma coluna tem relação direta com a outra, pois:\n",
        "  - O valor Conclusão no campo Situacao_Aluno_Agrupado, se refere também aos valores Conclusão de Situacao_Aluno que indicam que o aluno concluiu o curso\n",
        "  - Evasão corresponde aos alunos que abandonaram o curso\n",
        "  - Matriculado caracteriza os alunos que ainda estão cursando\n",
        "  - Retenção se refere aos alunos que ainda estão cursando, mas que por algum motivo, não estão tendo aulas\n",
        "\n",
        ">   Foi concluído então que o campo Situacao_Aluno_Agrupado é uma versão resumida do campo Situacao_Aluno, com valores agrupados que indicam a situação atual do aluno no curso. Essa análise é importante para compreender melhor os dados e para tomar decisões com base nessas informações, além de que entender a relação entre as diferentes colunas pode ajudar a identificar tendências."
      ]
    },
    {
      "cell_type": "markdown",
      "id": "XC7xErpFIgB8",
      "metadata": {
        "id": "XC7xErpFIgB8"
      },
      "source": [
        "## **Perguntas que guiarão o projeto**"
      ]
    },
    {
      "cell_type": "markdown",
      "id": "YAufkfTFIm2q",
      "metadata": {
        "id": "YAufkfTFIm2q"
      },
      "source": [
        "> Inicialmente, existem 9 perguntas que guiarão o projeto e que pretendemos responder durante o desenvolvimento do modelo, sendo elas:\n",
        "\n",
        " 1.  O CRA segue uma distribuição normal?\n",
        "\n",
        " 2. Ao analisar a taxa de evasão por gênero, o que se pode concluir?\n",
        "\n",
        " 3. Número médio de alunos que ingressaram no curso durante a pandemia de COVID-19, onde se espera entender se o método de ensino remoto influenciou ou não na decisão de saída do curso.\n",
        "\n",
        " 4. Esperamos prever a quantidade de alunos, em porcentagem, por modalidade de ingresso abandonaram o curso.\n",
        "\n",
        " 5. Os alunos que vieram de escolas públicas tendem a abandonar o curso?\n",
        "\n",
        " 6. Visamos calcular o valor médio de reprovações que os alunos que evadiram tiveram e analisar se há um padrão ou intervalo de números que aparecem de forma frequente.\n",
        "\n",
        " 7. Qual a média de idade das pessoas que decidiram abandonar o curso. O aluno ser mais velho ou mais novo influencia na decisão de saída?\n",
        "\n",
        " 8. Qual a relação entre a nota do ENEM e a evasão do curso?\n",
        "\n",
        " 9.  Há evidências de que uma quantidade relevante de alunos que abandonaram o curso não são de Minas Gerais, estado onde os campus se localiza?"
      ]
    },
    {
      "cell_type": "markdown",
      "id": "dzzyevF5GmSx",
      "metadata": {
        "id": "dzzyevF5GmSx"
      },
      "source": [
        "## **Formatação e limpeza dos dados**"
      ]
    },
    {
      "cell_type": "markdown",
      "id": "HPwuZKJkHnHk",
      "metadata": {
        "id": "HPwuZKJkHnHk"
      },
      "source": [
        "Essa etapa envolve entender os atributos e objetos dos dados, os tipos de cada atributo, o domínio de cada atributo,\n",
        "verificar e identificar possíveis ruídos ou informações ausentes, criar novos atributos se necessário, formatar valores, juntar conjuntos de dados, dentre outras atividades."
      ]
    },
    {
      "cell_type": "code",
      "execution_count": null,
      "id": "dQ_KlElM_7_K",
      "metadata": {
        "colab": {
          "base_uri": "https://localhost:8080/"
        },
        "id": "dQ_KlElM_7_K",
        "outputId": "3e21c940-aad1-4bda-c19d-0847c6f8d173"
      },
      "outputs": [
        {
          "name": "stdout",
          "output_type": "stream",
          "text": [
            "['Identificador' 'Ano_Nascimento' 'Sexo' 'Campus' 'Curso_Identificador'\n",
            " 'Curso' 'UF_Nascimento' 'Municipio_Nascimento' 'Admissao' 'Saida'\n",
            " 'Codigo_Situacao_Aluno' 'Situacao_Aluno' 'Situacao_Aluno_Agrupada'\n",
            " 'Modalidade_Inscrita' 'ENEM' 'Num_Reprovacoes' 'Raca' 'CRA']\n"
          ]
        }
      ],
      "source": [
        "df = dados\n",
        "print(df.columns.values)"
      ]
    },
    {
      "cell_type": "markdown",
      "id": "UqE5o55G9ae0",
      "metadata": {
        "id": "UqE5o55G9ae0"
      },
      "source": [
        "### Função para padronizar o texto, removendo acentos e caixa alta."
      ]
    },
    {
      "cell_type": "code",
      "execution_count": null,
      "id": "cHYw5vDH-NGy",
      "metadata": {
        "id": "cHYw5vDH-NGy"
      },
      "outputs": [],
      "source": [
        "def strip_accents(text):\n",
        "    try:\n",
        "        text = unicode(text, 'utf-8')\n",
        "    except NameError:\n",
        "        pass\n",
        "    text = unicodedata.normalize('NFD', text)\n",
        "    text = text.encode('ascii', 'ignore')\n",
        "    text = text.decode(\"utf-8\")\n",
        "    return str(text)"
      ]
    },
    {
      "cell_type": "markdown",
      "id": "9tjlV4eE-RJa",
      "metadata": {
        "id": "9tjlV4eE-RJa"
      },
      "source": [
        "### Função para padronizar nomes semelhantes e corrigir pequenos erros de ortografia, a fim de transformá-los em um único nome. Por exemplo, ela pode ser usada para converter \"vcosa\" em \"vicosa\"."
      ]
    },
    {
      "cell_type": "code",
      "execution_count": null,
      "id": "sJDkg-je-s_f",
      "metadata": {
        "id": "sJDkg-je-s_f"
      },
      "outputs": [],
      "source": [
        "def standardize_strings(column, threshold=80):\n",
        "    standardized_strings = []\n",
        "    for string in column:\n",
        "        standardized = False\n",
        "        for standard in standardized_strings:\n",
        "            similarity = fuzz.ratio(string, standard)\n",
        "            if similarity >= threshold:\n",
        "                column.replace(string, standard, inplace=True)\n",
        "                standardized = True\n",
        "                break\n",
        "\n",
        "        if not standardized:\n",
        "            standardized_strings.append(string)\n",
        "\n",
        "    return column"
      ]
    },
    {
      "cell_type": "markdown",
      "id": "Hsfrr9nQ_NZq",
      "metadata": {
        "id": "Hsfrr9nQ_NZq"
      },
      "source": [
        "### Funções para padronizar algumas entradas especificas como por exemplo:\n",
        "\n",
        "física e física - Licenciatura\n",
        "vicosa - mg em vicosa"
      ]
    },
    {
      "cell_type": "code",
      "execution_count": null,
      "id": "IkylHuCJ_bPL",
      "metadata": {
        "id": "IkylHuCJ_bPL"
      },
      "outputs": [],
      "source": [
        "def merge_entries(course_name):\n",
        "    if course_name.endswith(' - Licenciatura'):\n",
        "        return course_name[:-len(' - Licenciatura')]\n",
        "    else:\n",
        "        return course_name\n",
        "\n",
        "def remove_suffix(entry):\n",
        "    return entry.split(' - ')[0]"
      ]
    },
    {
      "cell_type": "markdown",
      "id": "C3VcreS7_p2Y",
      "metadata": {
        "id": "C3VcreS7_p2Y"
      },
      "source": [
        "#### Removendo valores nulos e valores que não fazem sentido, como por exemplo um aluno no curso superior que nasceu depois de 2015"
      ]
    },
    {
      "cell_type": "code",
      "execution_count": null,
      "id": "zUjNLVMC_64N",
      "metadata": {
        "id": "zUjNLVMC_64N"
      },
      "outputs": [],
      "source": [
        "df['ENEM'] = df['ENEM'].fillna(-1)\n",
        "df = df.dropna()\n",
        "df = df[df[\"Ano_Nascimento\"] < 2015]\n",
        "df= df[df[\"UF_Nascimento\"] != \" \"]"
      ]
    },
    {
      "cell_type": "markdown",
      "id": "6zQn9HAZAWmE",
      "metadata": {
        "id": "6zQn9HAZAWmE"
      },
      "source": [
        "#### Removendo acentos, espaços e caixa alta"
      ]
    },
    {
      "cell_type": "code",
      "execution_count": null,
      "id": "Ly6Lyn2jAWGJ",
      "metadata": {
        "id": "Ly6Lyn2jAWGJ"
      },
      "outputs": [],
      "source": [
        "df['Municipio_Nascimento'] = df['Municipio_Nascimento'].apply(lambda x: strip_accents(x).strip().lower())\n",
        "df['Situacao_Aluno'] = df['Situacao_Aluno'].apply(lambda x: strip_accents(x).strip().lower())"
      ]
    },
    {
      "cell_type": "markdown",
      "id": "RXxwas9IA1m0",
      "metadata": {
        "id": "RXxwas9IA1m0"
      },
      "source": [
        "#### Unindo cursos de licenciatura com sufixo específico ' - Licenciatura'  proprio de cursos em Florestal"
      ]
    },
    {
      "cell_type": "code",
      "execution_count": null,
      "id": "jTycTWdLA1Kl",
      "metadata": {
        "id": "jTycTWdLA1Kl"
      },
      "outputs": [],
      "source": [
        "df['Curso'] = df['Curso'].apply(merge_entries)\n",
        "df['Curso'] = df['Curso'].apply(lambda x: x.strip())"
      ]
    },
    {
      "cell_type": "markdown",
      "id": "3yNc5B-8BASL",
      "metadata": {
        "id": "3yNc5B-8BASL"
      },
      "source": [
        "#### Renomeia municipios com sufixos de estado\n",
        "ex \"vicosa\", \"vicosa - mg\""
      ]
    },
    {
      "cell_type": "code",
      "execution_count": null,
      "id": "YvEvLCJIA_5c",
      "metadata": {
        "id": "YvEvLCJIA_5c"
      },
      "outputs": [],
      "source": [
        "df['Municipio_Nascimento'] = df['Municipio_Nascimento'].apply(remove_suffix)"
      ]
    },
    {
      "cell_type": "markdown",
      "id": "yW0Ndy_7B1i6",
      "metadata": {
        "id": "yW0Ndy_7B1i6"
      },
      "source": [
        "#### Filtra o dataframe para deixar apenas os alunos que evadiram ou formaram"
      ]
    },
    {
      "cell_type": "code",
      "execution_count": null,
      "id": "vLrTFAMOB7sP",
      "metadata": {
        "id": "vLrTFAMOB7sP"
      },
      "outputs": [],
      "source": [
        "df_filtro = df[(df[\"Situacao_Aluno_Agrupada\"] == \"Conclusão\") | (df[\"Situacao_Aluno_Agrupada\"] == \"Evasão\")]"
      ]
    },
    {
      "cell_type": "markdown",
      "id": "5bXdfg4VB-z5",
      "metadata": {
        "id": "5bXdfg4VB-z5"
      },
      "source": [
        "#### Une municipios de nome similar a partir de threshold\n",
        "ex: \"vcosa\", \"vicosa\""
      ]
    },
    {
      "cell_type": "code",
      "execution_count": null,
      "id": "9eXFhOr9CCnE",
      "metadata": {
        "id": "9eXFhOr9CCnE"
      },
      "outputs": [],
      "source": [
        "standardized_column = standardize_strings(df['Municipio_Nascimento'], threshold=80)\n",
        "df['Municipio_Nascimento'] = standardized_column"
      ]
    },
    {
      "cell_type": "markdown",
      "id": "ugm1CIUoG_i-",
      "metadata": {
        "id": "ugm1CIUoG_i-"
      },
      "source": [
        "## **Estatísticas descritivas sobre os dados**\n"
      ]
    },
    {
      "cell_type": "code",
      "execution_count": null,
      "id": "BymuciNNcdQi",
      "metadata": {
        "colab": {
          "base_uri": "https://localhost:8080/"
        },
        "id": "BymuciNNcdQi",
        "outputId": "0c9f60a9-ef6b-4f3b-a558-1e7a048e9cb0"
      },
      "outputs": [
        {
          "name": "stdout",
          "output_type": "stream",
          "text": [
            "<class 'pandas.core.frame.DataFrame'>\n",
            "Int64Index: 54753 entries, 0 to 73905\n",
            "Data columns (total 18 columns):\n",
            " #   Column                   Non-Null Count  Dtype  \n",
            "---  ------                   --------------  -----  \n",
            " 0   Identificador            54753 non-null  float64\n",
            " 1   Ano_Nascimento           54753 non-null  float64\n",
            " 2   Sexo                     54753 non-null  object \n",
            " 3   Campus                   54753 non-null  object \n",
            " 4   Curso_Identificador      54753 non-null  float64\n",
            " 5   Curso                    54753 non-null  object \n",
            " 6   UF_Nascimento            54753 non-null  object \n",
            " 7   Municipio_Nascimento     54753 non-null  object \n",
            " 8   Admissao                 54753 non-null  object \n",
            " 9   Saida                    54753 non-null  object \n",
            " 10  Codigo_Situacao_Aluno    54753 non-null  object \n",
            " 11  Situacao_Aluno           54753 non-null  object \n",
            " 12  Situacao_Aluno_Agrupada  54753 non-null  object \n",
            " 13  Modalidade_Inscrita      54753 non-null  float64\n",
            " 14  ENEM                     54753 non-null  float64\n",
            " 15  Num_Reprovacoes          54753 non-null  float64\n",
            " 16  Raca                     54753 non-null  object \n",
            " 17  CRA                      54753 non-null  float64\n",
            "dtypes: float64(7), object(11)\n",
            "memory usage: 7.9+ MB\n"
          ]
        }
      ],
      "source": [
        "df_filtro.info()"
      ]
    },
    {
      "cell_type": "code",
      "execution_count": null,
      "id": "YdZoe_D2eP8Q",
      "metadata": {
        "colab": {
          "base_uri": "https://localhost:8080/"
        },
        "id": "YdZoe_D2eP8Q",
        "outputId": "b40e1451-83b4-4f9d-fb63-798281460c09",
        "scrolled": true
      },
      "outputs": [
        {
          "data": {
            "text/html": [
              "<div>\n",
              "<style scoped>\n",
              "    .dataframe tbody tr th:only-of-type {\n",
              "        vertical-align: middle;\n",
              "    }\n",
              "\n",
              "    .dataframe tbody tr th {\n",
              "        vertical-align: top;\n",
              "    }\n",
              "\n",
              "    .dataframe thead th {\n",
              "        text-align: right;\n",
              "    }\n",
              "</style>\n",
              "<table border=\"1\" class=\"dataframe\">\n",
              "  <thead>\n",
              "    <tr style=\"text-align: right;\">\n",
              "      <th></th>\n",
              "      <th>Identificador</th>\n",
              "      <th>Ano_Nascimento</th>\n",
              "      <th>Sexo</th>\n",
              "      <th>Campus</th>\n",
              "      <th>Curso_Identificador</th>\n",
              "      <th>Curso</th>\n",
              "      <th>UF_Nascimento</th>\n",
              "      <th>Municipio_Nascimento</th>\n",
              "      <th>Admissao</th>\n",
              "      <th>Saida</th>\n",
              "      <th>Codigo_Situacao_Aluno</th>\n",
              "      <th>Situacao_Aluno</th>\n",
              "      <th>Situacao_Aluno_Agrupada</th>\n",
              "      <th>Modalidade_Inscrita</th>\n",
              "      <th>ENEM</th>\n",
              "      <th>Num_Reprovacoes</th>\n",
              "      <th>Raca</th>\n",
              "      <th>CRA</th>\n",
              "    </tr>\n",
              "  </thead>\n",
              "  <tbody>\n",
              "    <tr>\n",
              "      <th>1017</th>\n",
              "      <td>34831.0</td>\n",
              "      <td>1980.0</td>\n",
              "      <td>M</td>\n",
              "      <td>CAV</td>\n",
              "      <td>1141.0</td>\n",
              "      <td>CAV - Ciência da Computação</td>\n",
              "      <td>MG</td>\n",
              "      <td>barbacena</td>\n",
              "      <td>2000/1</td>\n",
              "      <td>2003/2</td>\n",
              "      <td>C</td>\n",
              "      <td>conclusao</td>\n",
              "      <td>Conclusão</td>\n",
              "      <td>0.0</td>\n",
              "      <td>-1.00</td>\n",
              "      <td>0.0</td>\n",
              "      <td>Informação não disponível</td>\n",
              "      <td>87.5</td>\n",
              "    </tr>\n",
              "    <tr>\n",
              "      <th>1018</th>\n",
              "      <td>34836.0</td>\n",
              "      <td>1982.0</td>\n",
              "      <td>M</td>\n",
              "      <td>CAV</td>\n",
              "      <td>1141.0</td>\n",
              "      <td>CAV - Ciência da Computação</td>\n",
              "      <td>MG</td>\n",
              "      <td>adamantina</td>\n",
              "      <td>2000/1</td>\n",
              "      <td>2003/2</td>\n",
              "      <td>C</td>\n",
              "      <td>conclusao</td>\n",
              "      <td>Conclusão</td>\n",
              "      <td>0.0</td>\n",
              "      <td>-1.00</td>\n",
              "      <td>0.0</td>\n",
              "      <td>Informação não disponível</td>\n",
              "      <td>83.5</td>\n",
              "    </tr>\n",
              "    <tr>\n",
              "      <th>1189</th>\n",
              "      <td>34835.0</td>\n",
              "      <td>1978.0</td>\n",
              "      <td>M</td>\n",
              "      <td>CAV</td>\n",
              "      <td>1141.0</td>\n",
              "      <td>CAV - Ciência da Computação</td>\n",
              "      <td>RJ</td>\n",
              "      <td>santo antonio de padua</td>\n",
              "      <td>2000/1</td>\n",
              "      <td>2003/2</td>\n",
              "      <td>C</td>\n",
              "      <td>conclusao</td>\n",
              "      <td>Conclusão</td>\n",
              "      <td>0.0</td>\n",
              "      <td>-1.00</td>\n",
              "      <td>0.0</td>\n",
              "      <td>Informação não disponível</td>\n",
              "      <td>87.9</td>\n",
              "    </tr>\n",
              "    <tr>\n",
              "      <th>1190</th>\n",
              "      <td>34844.0</td>\n",
              "      <td>1982.0</td>\n",
              "      <td>M</td>\n",
              "      <td>CAV</td>\n",
              "      <td>1141.0</td>\n",
              "      <td>CAV - Ciência da Computação</td>\n",
              "      <td>MG</td>\n",
              "      <td>vicosa</td>\n",
              "      <td>2000/1</td>\n",
              "      <td>2003/2</td>\n",
              "      <td>C</td>\n",
              "      <td>conclusao</td>\n",
              "      <td>Conclusão</td>\n",
              "      <td>0.0</td>\n",
              "      <td>-1.00</td>\n",
              "      <td>0.0</td>\n",
              "      <td>Informação não disponível</td>\n",
              "      <td>81.4</td>\n",
              "    </tr>\n",
              "    <tr>\n",
              "      <th>1191</th>\n",
              "      <td>34851.0</td>\n",
              "      <td>1981.0</td>\n",
              "      <td>M</td>\n",
              "      <td>CAV</td>\n",
              "      <td>1141.0</td>\n",
              "      <td>CAV - Ciência da Computação</td>\n",
              "      <td>MG</td>\n",
              "      <td>caratinga</td>\n",
              "      <td>2000/1</td>\n",
              "      <td>2004/2</td>\n",
              "      <td>C</td>\n",
              "      <td>conclusao</td>\n",
              "      <td>Conclusão</td>\n",
              "      <td>0.0</td>\n",
              "      <td>-1.00</td>\n",
              "      <td>3.0</td>\n",
              "      <td>Informação não disponível</td>\n",
              "      <td>76.0</td>\n",
              "    </tr>\n",
              "    <tr>\n",
              "      <th>...</th>\n",
              "      <td>...</td>\n",
              "      <td>...</td>\n",
              "      <td>...</td>\n",
              "      <td>...</td>\n",
              "      <td>...</td>\n",
              "      <td>...</td>\n",
              "      <td>...</td>\n",
              "      <td>...</td>\n",
              "      <td>...</td>\n",
              "      <td>...</td>\n",
              "      <td>...</td>\n",
              "      <td>...</td>\n",
              "      <td>...</td>\n",
              "      <td>...</td>\n",
              "      <td>...</td>\n",
              "      <td>...</td>\n",
              "      <td>...</td>\n",
              "      <td>...</td>\n",
              "    </tr>\n",
              "    <tr>\n",
              "      <th>73940</th>\n",
              "      <td>20006995.0</td>\n",
              "      <td>1986.0</td>\n",
              "      <td>F</td>\n",
              "      <td>CAF</td>\n",
              "      <td>2107.0</td>\n",
              "      <td>CAF - Ciência da Computação</td>\n",
              "      <td>MG</td>\n",
              "      <td>contagem</td>\n",
              "      <td>2022/2</td>\n",
              "      <td>0.0</td>\n",
              "      <td>N</td>\n",
              "      <td>normal</td>\n",
              "      <td>Matriculado</td>\n",
              "      <td>0.0</td>\n",
              "      <td>-1.00</td>\n",
              "      <td>0.0</td>\n",
              "      <td>Branco(a)</td>\n",
              "      <td>0.0</td>\n",
              "    </tr>\n",
              "    <tr>\n",
              "      <th>73944</th>\n",
              "      <td>20006972.0</td>\n",
              "      <td>1995.0</td>\n",
              "      <td>M</td>\n",
              "      <td>CAF</td>\n",
              "      <td>2107.0</td>\n",
              "      <td>CAF - Ciência da Computação</td>\n",
              "      <td>MG</td>\n",
              "      <td>porteirinha</td>\n",
              "      <td>2022/2</td>\n",
              "      <td>0.0</td>\n",
              "      <td>N</td>\n",
              "      <td>normal</td>\n",
              "      <td>Matriculado</td>\n",
              "      <td>0.0</td>\n",
              "      <td>656.38</td>\n",
              "      <td>0.0</td>\n",
              "      <td>Indígena</td>\n",
              "      <td>0.0</td>\n",
              "    </tr>\n",
              "    <tr>\n",
              "      <th>73951</th>\n",
              "      <td>20006987.0</td>\n",
              "      <td>1997.0</td>\n",
              "      <td>M</td>\n",
              "      <td>CAF</td>\n",
              "      <td>2107.0</td>\n",
              "      <td>CAF - Ciência da Computação</td>\n",
              "      <td>MG</td>\n",
              "      <td>belo horizonte</td>\n",
              "      <td>2022/2</td>\n",
              "      <td>0.0</td>\n",
              "      <td>N</td>\n",
              "      <td>normal</td>\n",
              "      <td>Matriculado</td>\n",
              "      <td>0.0</td>\n",
              "      <td>644.90</td>\n",
              "      <td>0.0</td>\n",
              "      <td>Branco(a)</td>\n",
              "      <td>0.0</td>\n",
              "    </tr>\n",
              "    <tr>\n",
              "      <th>73952</th>\n",
              "      <td>20006973.0</td>\n",
              "      <td>2002.0</td>\n",
              "      <td>M</td>\n",
              "      <td>CAF</td>\n",
              "      <td>2107.0</td>\n",
              "      <td>CAF - Ciência da Computação</td>\n",
              "      <td>RJ</td>\n",
              "      <td>rio de janeiro</td>\n",
              "      <td>2022/2</td>\n",
              "      <td>0.0</td>\n",
              "      <td>N</td>\n",
              "      <td>normal</td>\n",
              "      <td>Matriculado</td>\n",
              "      <td>0.0</td>\n",
              "      <td>674.12</td>\n",
              "      <td>0.0</td>\n",
              "      <td>Branco(a)</td>\n",
              "      <td>0.0</td>\n",
              "    </tr>\n",
              "    <tr>\n",
              "      <th>73955</th>\n",
              "      <td>20007003.0</td>\n",
              "      <td>1999.0</td>\n",
              "      <td>M</td>\n",
              "      <td>CAF</td>\n",
              "      <td>2107.0</td>\n",
              "      <td>CAF - Ciência da Computação</td>\n",
              "      <td>MG</td>\n",
              "      <td>betim</td>\n",
              "      <td>2022/2</td>\n",
              "      <td>0.0</td>\n",
              "      <td>N</td>\n",
              "      <td>normal</td>\n",
              "      <td>Matriculado</td>\n",
              "      <td>0.0</td>\n",
              "      <td>-1.00</td>\n",
              "      <td>0.0</td>\n",
              "      <td>Branco(a)</td>\n",
              "      <td>0.0</td>\n",
              "    </tr>\n",
              "  </tbody>\n",
              "</table>\n",
              "<p>1590 rows × 18 columns</p>\n",
              "</div>"
            ],
            "text/plain": [
              "       Identificador  Ano_Nascimento Sexo Campus  Curso_Identificador  \\\n",
              "1017         34831.0          1980.0    M    CAV               1141.0   \n",
              "1018         34836.0          1982.0    M    CAV               1141.0   \n",
              "1189         34835.0          1978.0    M    CAV               1141.0   \n",
              "1190         34844.0          1982.0    M    CAV               1141.0   \n",
              "1191         34851.0          1981.0    M    CAV               1141.0   \n",
              "...              ...             ...  ...    ...                  ...   \n",
              "73940     20006995.0          1986.0    F    CAF               2107.0   \n",
              "73944     20006972.0          1995.0    M    CAF               2107.0   \n",
              "73951     20006987.0          1997.0    M    CAF               2107.0   \n",
              "73952     20006973.0          2002.0    M    CAF               2107.0   \n",
              "73955     20007003.0          1999.0    M    CAF               2107.0   \n",
              "\n",
              "                             Curso UF_Nascimento    Municipio_Nascimento  \\\n",
              "1017   CAV - Ciência da Computação            MG               barbacena   \n",
              "1018   CAV - Ciência da Computação            MG              adamantina   \n",
              "1189   CAV - Ciência da Computação            RJ  santo antonio de padua   \n",
              "1190   CAV - Ciência da Computação            MG                  vicosa   \n",
              "1191   CAV - Ciência da Computação            MG               caratinga   \n",
              "...                            ...           ...                     ...   \n",
              "73940  CAF - Ciência da Computação            MG                contagem   \n",
              "73944  CAF - Ciência da Computação            MG             porteirinha   \n",
              "73951  CAF - Ciência da Computação            MG          belo horizonte   \n",
              "73952  CAF - Ciência da Computação            RJ          rio de janeiro   \n",
              "73955  CAF - Ciência da Computação            MG                   betim   \n",
              "\n",
              "      Admissao   Saida Codigo_Situacao_Aluno Situacao_Aluno  \\\n",
              "1017    2000/1  2003/2                     C      conclusao   \n",
              "1018    2000/1  2003/2                     C      conclusao   \n",
              "1189    2000/1  2003/2                     C      conclusao   \n",
              "1190    2000/1  2003/2                     C      conclusao   \n",
              "1191    2000/1  2004/2                     C      conclusao   \n",
              "...        ...     ...                   ...            ...   \n",
              "73940   2022/2     0.0                     N         normal   \n",
              "73944   2022/2     0.0                     N         normal   \n",
              "73951   2022/2     0.0                     N         normal   \n",
              "73952   2022/2     0.0                     N         normal   \n",
              "73955   2022/2     0.0                     N         normal   \n",
              "\n",
              "      Situacao_Aluno_Agrupada  Modalidade_Inscrita    ENEM  Num_Reprovacoes  \\\n",
              "1017                Conclusão                  0.0   -1.00              0.0   \n",
              "1018                Conclusão                  0.0   -1.00              0.0   \n",
              "1189                Conclusão                  0.0   -1.00              0.0   \n",
              "1190                Conclusão                  0.0   -1.00              0.0   \n",
              "1191                Conclusão                  0.0   -1.00              3.0   \n",
              "...                       ...                  ...     ...              ...   \n",
              "73940             Matriculado                  0.0   -1.00              0.0   \n",
              "73944             Matriculado                  0.0  656.38              0.0   \n",
              "73951             Matriculado                  0.0  644.90              0.0   \n",
              "73952             Matriculado                  0.0  674.12              0.0   \n",
              "73955             Matriculado                  0.0   -1.00              0.0   \n",
              "\n",
              "                            Raca   CRA  \n",
              "1017   Informação não disponível  87.5  \n",
              "1018   Informação não disponível  83.5  \n",
              "1189   Informação não disponível  87.9  \n",
              "1190   Informação não disponível  81.4  \n",
              "1191   Informação não disponível  76.0  \n",
              "...                          ...   ...  \n",
              "73940                  Branco(a)   0.0  \n",
              "73944                   Indígena   0.0  \n",
              "73951                  Branco(a)   0.0  \n",
              "73952                  Branco(a)   0.0  \n",
              "73955                  Branco(a)   0.0  \n",
              "\n",
              "[1590 rows x 18 columns]"
            ]
          },
          "execution_count": 17,
          "metadata": {},
          "output_type": "execute_result"
        }
      ],
      "source": [
        "dados = df[(df['Curso'] == 'CAF - Ciência da Computação') | (df['Curso'] == 'CAV - Ciência da Computação') | (df['Curso'] == 'C - Ciência da Computação')]\n",
        "dados"
      ]
    },
    {
      "cell_type": "markdown",
      "id": "LN5Ss0zqQzYK",
      "metadata": {
        "id": "LN5Ss0zqQzYK"
      },
      "source": [
        "## **Pergunta 1**: O CRA segue uma distribuição normal?"
      ]
    },
    {
      "cell_type": "code",
      "execution_count": null,
      "id": "TTWDEZvTRFOw",
      "metadata": {
        "id": "TTWDEZvTRFOw"
      },
      "outputs": [],
      "source": [
        "from scipy import stats\n",
        "df_cdc = dados[dados['Curso'] == \"CAF - Ciência da Computação\"]"
      ]
    },
    {
      "cell_type": "markdown",
      "id": "QGgMRGAMUQGI",
      "metadata": {
        "id": "QGgMRGAMUQGI"
      },
      "source": [
        "Foi utilizado diferentes algoritmos para calcular o p-value"
      ]
    },
    {
      "cell_type": "code",
      "execution_count": null,
      "id": "Bc4n-jZmRGII",
      "metadata": {
        "colab": {
          "base_uri": "https://localhost:8080/"
        },
        "id": "Bc4n-jZmRGII",
        "outputId": "df72eb86-7fb2-4693-a31c-3667fe72b626"
      },
      "outputs": [
        {
          "name": "stdout",
          "output_type": "stream",
          "text": [
            "\n",
            "====== Algoritmo: Kolmogorov-Smirnov ======\n",
            "\n",
            "Estatística de teste: 0.8936882699073012\n",
            "Valor p: 0.0\n",
            "\n",
            "====== Algoritmo: Anderson ======\n",
            "\n",
            "Estatística de teste: 11.539052001040659\n",
            "Valores críticos: [0.572 0.651 0.781 0.911 1.084]\n",
            "Níveis de significância: [15.  10.   5.   2.5  1. ]\n",
            "\n",
            "====== Algoritmo: Jarque Bera ======\n",
            "\n",
            "Estatística de teste: 39.72040162101058\n",
            "Valor p: 2.3704149754166792e-09\n",
            "\n",
            "====== Algoritmo: Lilliefors ======\n",
            "\n",
            "Estatística de teste: 0.10046197103779031\n",
            "Valor p: 0.0009999999999998899\n",
            "\n",
            "====== Média CRA ======\n",
            "\n",
            "Media CRA =>  49.38740458015267\n"
          ]
        }
      ],
      "source": [
        "import warnings\n",
        "warnings.filterwarnings(\"ignore\")\n",
        "\n",
        "df_cdc['CRA'] = df_cdc['CRA'].dropna()\n",
        "df_cdc['CRA'] = df_cdc['CRA'].astype(str)\n",
        "df_cdc['CRA'] = df_cdc['CRA'].str.replace(',', '.')\n",
        "df_cdc['CRA']\n",
        "\n",
        "df_cdc['CRA']  = df_cdc['CRA'].astype(float)\n",
        "\n",
        "print(\"\\n====== Algoritmo: Kolmogorov-Smirnov ======\\n\")\n",
        "stat, p_value = stats.kstest(df_cdc['CRA'], 'norm')\n",
        "print('Estatística de teste:', stat)\n",
        "print('Valor p:', p_value)\n",
        "\n",
        "print(\"\\n====== Algoritmo: Anderson ======\\n\")\n",
        "result = stats.anderson(df_cdc['CRA'], dist='norm')\n",
        "print('Estatística de teste:', result.statistic)\n",
        "print('Valores críticos:', result.critical_values)\n",
        "print('Níveis de significância:', result.significance_level)\n",
        "\n",
        "print(\"\\n====== Algoritmo: Jarque Bera ======\\n\")\n",
        "stat_jb, p_value_jb = stats.jarque_bera(df_cdc['CRA'])\n",
        "print('Estatística de teste:', stat_jb)\n",
        "print('Valor p:', p_value_jb)\n",
        "# normalidade_CRA = stats.shapiro(df_cdc_cdc_CRA)\n",
        "\n",
        "from statsmodels.stats.diagnostic import lilliefors\n",
        "print(\"\\n====== Algoritmo: Lilliefors ======\\n\")\n",
        "# Realizar o teste de Lilliefors\n",
        "stat_l, p_value_l = lilliefors(df_cdc['CRA'])\n",
        "\n",
        "# Imprimir os resultados\n",
        "print('Estatística de teste:', stat_l)\n",
        "print('Valor p:', p_value_l)\n",
        "\n",
        "# print(\"P-Value: \", normalidade_CRA)\n",
        "\n",
        "print(\"\\n====== Média CRA ======\\n\")\n",
        "#Media CRA\n",
        "print(\"Media CRA => \", df_cdc['CRA'].mean())"
      ]
    },
    {
      "cell_type": "code",
      "execution_count": null,
      "id": "gPnpXHpaVS0L",
      "metadata": {
        "colab": {
          "base_uri": "https://localhost:8080/"
        },
        "id": "gPnpXHpaVS0L",
        "outputId": "bb46e9cc-097c-4e43-cb3b-d739ad5e87f9"
      },
      "outputs": [
        {
          "data": {
            "image/png": "[encoded data removed]",
            "text/plain": [
              "<Figure size 432x288 with 1 Axes>"
            ]
          },
          "metadata": {
            "needs_background": "light"
          },
          "output_type": "display_data"
        }
      ],
      "source": [
        "# Plotar o histograma dos dados\n",
        "plt.hist(df_cdc['CRA'], bins=30, density=True, alpha=0.6, color='g')\n",
        "\n",
        "# Gerar pontos para a curva teórica da distribuição normal\n",
        "mu, sigma = np.mean(df_cdc['CRA']), np.std(df_cdc['CRA'])\n",
        "x = np.linspace(mu - 3*sigma, mu + 3*sigma, 100)\n",
        "y = 1/(sigma * np.sqrt(2*np.pi)) * np.exp(-(x - mu)**2 / (2*sigma**2))\n",
        "\n",
        "# Plotar a curva teórica da distribuição normal\n",
        "plt.plot(x, y, color='r')\n",
        "\n",
        "# Configurar o título e os rótulos dos eixos\n",
        "plt.title('Distribuição Normal')\n",
        "plt.xlabel('Valores')\n",
        "plt.ylabel('Densidade')\n",
        "\n",
        "# Exibir o gráfico\n",
        "plt.show()\n"
      ]
    },
    {
      "cell_type": "code",
      "execution_count": null,
      "id": "EWzi4dn9VXUC",
      "metadata": {
        "colab": {
          "base_uri": "https://localhost:8080/"
        },
        "id": "EWzi4dn9VXUC",
        "outputId": "2c381c78-8a81-4c35-f018-f042d9329af4"
      },
      "outputs": [
        {
          "data": {
            "image/png": "[encoded data removed]",
            "text/plain": [
              "<Figure size 432x288 with 1 Axes>"
            ]
          },
          "metadata": {
            "needs_background": "light"
          },
          "output_type": "display_data"
        }
      ],
      "source": [
        "sns.histplot(df_cdc['CRA'], kde=True)\n",
        "plt.title('Distribuição Normal')\n",
        "plt.xlabel('Valores')\n",
        "plt.ylabel('Densidade')\n",
        "plt.show()"
      ]
    },
    {
      "cell_type": "markdown",
      "id": "FPZwySz7Veq-",
      "metadata": {
        "id": "FPZwySz7Veq-"
      },
      "source": [
        "A partir desse resultado, percebeu-se que o padrão está desacordo com a distribuição normal.\n",
        "\n",
        "A partir disso, foi pensado que se os valores de CRA igual a 0 fossem retirados, poderia melhorar a distribuição:"
      ]
    },
    {
      "cell_type": "code",
      "execution_count": null,
      "id": "Enh7AsspWP79",
      "metadata": {
        "id": "Enh7AsspWP79"
      },
      "outputs": [],
      "source": [
        "df_cdc_CRA_diferente_zero = df_cdc[df_cdc['CRA'] != 0]"
      ]
    },
    {
      "cell_type": "code",
      "execution_count": null,
      "id": "gsqlAkfNWeZR",
      "metadata": {
        "colab": {
          "base_uri": "https://localhost:8080/"
        },
        "id": "gsqlAkfNWeZR",
        "outputId": "b5957853-f045-4f76-e109-6fac085a18d6"
      },
      "outputs": [
        {
          "data": {
            "image/png": "[encoded data removed]",
            "text/plain": [
              "<Figure size 432x288 with 1 Axes>"
            ]
          },
          "metadata": {
            "needs_background": "light"
          },
          "output_type": "display_data"
        }
      ],
      "source": [
        "# Plotar o histograma dos dados\n",
        "plt.hist(df_cdc_CRA_diferente_zero['CRA'], bins=30, density=True, alpha=0.6, color='g')\n",
        "\n",
        "# Gerar pontos para a curva teórica da distribuição normal\n",
        "mu, sigma = np.mean(df_cdc_CRA_diferente_zero['CRA']), np.std(df_cdc_CRA_diferente_zero['CRA'])\n",
        "x = np.linspace(mu - 3*sigma, mu + 3*sigma, 100)\n",
        "y = 1/(sigma * np.sqrt(2*np.pi)) * np.exp(-(x - mu)**2 / (2*sigma**2))\n",
        "\n",
        "# Plotar a curva teórica da distribuição normal\n",
        "plt.plot(x, y, color='r')\n",
        "\n",
        "# Configurar o título e os rótulos dos eixos\n",
        "plt.title('Distribuição Normal')\n",
        "plt.xlabel('Valores')\n",
        "plt.ylabel('Densidade')\n",
        "\n",
        "# Exibir o gráfico\n",
        "plt.show()"
      ]
    },
    {
      "cell_type": "code",
      "execution_count": null,
      "id": "HNn4PcehWmXq",
      "metadata": {
        "colab": {
          "base_uri": "https://localhost:8080/"
        },
        "id": "HNn4PcehWmXq",
        "outputId": "369fe2c7-6dcf-4e18-f27f-709c4eebe61f"
      },
      "outputs": [
        {
          "data": {
            "image/png": "[encoded data removed]",
            "text/plain": [
              "<Figure size 432x288 with 1 Axes>"
            ]
          },
          "metadata": {
            "needs_background": "light"
          },
          "output_type": "display_data"
        }
      ],
      "source": [
        "sns.histplot(df_cdc_CRA_diferente_zero['CRA'], kde=True)\n",
        "plt.title('Distribuição Normal')\n",
        "plt.xlabel('Valores')\n",
        "plt.ylabel('Densidade')\n",
        "plt.show()"
      ]
    },
    {
      "cell_type": "markdown",
      "id": "rbYEuoIGWn5M",
      "metadata": {
        "id": "rbYEuoIGWn5M"
      },
      "source": [
        "Entretanto, mesmo retirando os valores iguais a 0, a distribuição não segue uma normalidade, portanto, isso significa que eles não possuem a forma de sino simétrica típica da distribuição normal"
      ]
    },
    {
      "cell_type": "markdown",
      "id": "dB8gcLhbcHXF",
      "metadata": {
        "id": "dB8gcLhbcHXF"
      },
      "source": [
        "## **Pergunta 2**: Ao analisar a taxa de evasão por gênero, o que se pode concluir?"
      ]
    },
    {
      "cell_type": "code",
      "execution_count": null,
      "id": "PsopxCQ_q-v-",
      "metadata": {
        "colab": {
          "base_uri": "https://localhost:8080/"
        },
        "id": "PsopxCQ_q-v-",
        "outputId": "fdfaffbb-1b56-4e00-c675-22a57aad534e"
      },
      "outputs": [
        {
          "name": "stdout",
          "output_type": "stream",
          "text": [
            "Quantidade de mulheres: 193\n",
            "Quantidade de homens: 1397\n"
          ]
        }
      ],
      "source": [
        "df_mulheres_cdc = dados[(dados['Sexo'] == 'F')]\n",
        "df_homens_cdc = dados[(dados['Sexo'] == 'M')]\n",
        "\n",
        "qtd_mulheres_cdc = df_mulheres_cdc['Sexo'].shape[0]\n",
        "qtd_homens_cdc = df_homens_cdc['Sexo'].shape[0]\n",
        "\n",
        "print(f'Quantidade de mulheres: {qtd_mulheres_cdc}')\n",
        "print(f'Quantidade de homens: {qtd_homens_cdc}')"
      ]
    },
    {
      "cell_type": "code",
      "execution_count": null,
      "id": "FcUblxGasKVp",
      "metadata": {
        "colab": {
          "base_uri": "https://localhost:8080/"
        },
        "id": "FcUblxGasKVp",
        "outputId": "def8e540-12c3-4116-edbe-7b235cd85c41"
      },
      "outputs": [
        {
          "data": {
            "text/plain": [
              "Sexo\n",
              "F    0.362694\n",
              "M    0.413744\n",
              "Name: Situacao_Aluno_Agrupada, dtype: float64"
            ]
          },
          "execution_count": 27,
          "metadata": {},
          "output_type": "execute_result"
        }
      ],
      "source": [
        "taxa_evasao_genero = dados.groupby('Sexo')['Situacao_Aluno_Agrupada'].apply(lambda x: (x == 'Evasão').mean())\n",
        "taxa_evasao_genero"
      ]
    },
    {
      "cell_type": "code",
      "execution_count": null,
      "id": "xPG8V30QtKkA",
      "metadata": {
        "colab": {
          "base_uri": "https://localhost:8080/"
        },
        "id": "xPG8V30QtKkA",
        "outputId": "a59f9266-85ea-4cae-cca7-f2b50034b620"
      },
      "outputs": [
        {
          "name": "stdout",
          "output_type": "stream",
          "text": [
            "Taxa de evasão mulheres: 0.36\n",
            "Taxa de evasão homens: 0.41\n"
          ]
        }
      ],
      "source": [
        "taxa_evasao_mulheres = taxa_evasao_genero[0]\n",
        "taxa_evasao_homens = taxa_evasao_genero[1]\n",
        "\n",
        "print(f'Taxa de evasão mulheres: {taxa_evasao_mulheres:.2f}')\n",
        "print(f'Taxa de evasão homens: {taxa_evasao_homens:.2f}')"
      ]
    },
    {
      "cell_type": "code",
      "execution_count": null,
      "id": "H2Ps6SpCuA91",
      "metadata": {
        "colab": {
          "base_uri": "https://localhost:8080/"
        },
        "id": "H2Ps6SpCuA91",
        "outputId": "e013da29-0a67-4ab5-f46e-f5f52084ce76"
      },
      "outputs": [
        {
          "name": "stdout",
          "output_type": "stream",
          "text": [
            "Número de mulheres que evadiram: 70\n",
            "Número de homens que evadiram: 578\n"
          ]
        }
      ],
      "source": [
        "qtd_mulheres_evasao = qtd_mulheres_cdc * taxa_evasao_mulheres\n",
        "qtd_homens_evasao = qtd_homens_cdc * taxa_evasao_homens\n",
        "\n",
        "print(f'Número de mulheres que evadiram: {round(qtd_mulheres_evasao)}')\n",
        "print(f'Número de homens que evadiram: {round(qtd_homens_evasao)}')"
      ]
    },
    {
      "cell_type": "code",
      "execution_count": null,
      "id": "tkK8O8qPsrcc",
      "metadata": {
        "colab": {
          "base_uri": "https://localhost:8080/"
        },
        "id": "tkK8O8qPsrcc",
        "outputId": "54240ad7-93c1-407e-aec2-871cd25f057e"
      },
      "outputs": [
        {
          "data": {
            "image/png": "[encoded data removed]",
            "text/plain": [
              "<Figure size 360x216 with 1 Axes>"
            ]
          },
          "metadata": {
            "needs_background": "light"
          },
          "output_type": "display_data"
        }
      ],
      "source": [
        "taxa_evasao_genero.plot(kind=\"barh\", figsize=(5,3), color=\"SeaGreen\")\n",
        "plt.title('Taxa de evasão por gênero')\n",
        "plt.xlabel('Gênero')\n",
        "plt.ylabel('Taxa de evasão')\n",
        "plt.show()"
      ]
    },
    {
      "cell_type": "markdown",
      "id": "pyxA7-ydu5uz",
      "metadata": {
        "id": "pyxA7-ydu5uz"
      },
      "source": [
        "> Após as análises da taxa de evasão para cada gênero, podemos concluir que temos uma taxa de evasão mais alta para os homens do que para as mulheres. Porém, ao considerar a perspectiva social do curso de Ciência da Computação e os números que informam a quantidade de cada gênero, percebemos que a quantidade de mulheres que passaram pelo curso, concluindo ele ou não, é extremamente menor que a dos homens, incluindo os dois campus. Dessa forma então, vale ressaltar que a quantidade de homens no curso influencia no alto valor da taxa de evasão."
      ]
    },
    {
      "cell_type": "markdown",
      "id": "DzBu-OtcfBqF",
      "metadata": {
        "id": "DzBu-OtcfBqF"
      },
      "source": [
        "## **Pergunta 3**: Número médio de alunos que ingressaram no curso durante a pandemia de COVID-19, onde se espera entender se o método de ensino remoto influenciou ou não na decisão de saída do curso."
      ]
    },
    {
      "cell_type": "code",
      "execution_count": null,
      "id": "4kZ6CI3ufIPY",
      "metadata": {
        "colab": {
          "base_uri": "https://localhost:8080/"
        },
        "id": "4kZ6CI3ufIPY",
        "outputId": "1d8dc1a7-b0db-4c65-afd0-fceb76466d4d"
      },
      "outputs": [
        {
          "data": {
            "image/png": "[encoded data removed]",
            "text/plain": [
              "<Figure size 432x288 with 1 Axes>"
            ]
          },
          "metadata": {
            "needs_background": "light"
          },
          "output_type": "display_data"
        }
      ],
      "source": [
        "admitido2016 = df_cdc[df_cdc['Admissao'].str.contains(\"2016\")]\n",
        "admitido2017 = df_cdc[df_cdc['Admissao'].str.contains(\"2017\")]\n",
        "admitido2020 = df_cdc[df_cdc['Admissao'].str.contains(\"2020\")]\n",
        "admitido2021 = df_cdc[df_cdc['Admissao'].str.contains(\"2021\")]\n",
        "\n",
        "evasao2016 = admitido2016[(admitido2016['Saida'].str.contains(\"2016\")) | (admitido2016['Saida'].str.contains(\"2017\"))].count()['Saida']\n",
        "evasao2017 = admitido2017[(admitido2017['Saida'].str.contains(\"2017\")) | (admitido2017['Saida'].str.contains(\"2018\"))].count()['Saida']\n",
        "evasao2020 = admitido2020[(admitido2020['Saida'].str.contains(\"2020\")) | (admitido2020['Saida'].str.contains(\"2021\"))].count()['Saida']\n",
        "evasao2021 = admitido2021[(admitido2021['Saida'].str.contains(\"2021\")) | (admitido2021['Saida'].str.contains(\"2022\"))].count()['Saida']\n",
        "\n",
        "data = {'Ano': ['2016', '2017', '2020', '2021'],\n",
        "        'Evasão': [evasao2016, evasao2017, evasao2020, evasao2021]}\n",
        "df_evasao = pd.DataFrame(data)\n",
        "\n",
        "df_evasao.plot(x='Ano', y='Evasão', kind='bar', color='#005500')\n",
        "plt.xlabel('Ano')\n",
        "plt.ylabel('Quantidade de Evasões')\n",
        "plt.title('Evasões por Ano')\n",
        "plt.show()\n"
      ]
    },
    {
      "cell_type": "markdown",
      "id": "rY2VwW8TfWt1",
      "metadata": {
        "id": "rY2VwW8TfWt1"
      },
      "source": [
        "## **Pergunta 4:** Esperamos prever a quantidade de alunos, em porcentagem, por modalidade de ingresso abandonaram o curso."
      ]
    },
    {
      "cell_type": "code",
      "execution_count": null,
      "id": "McOZgfaNfaal",
      "metadata": {
        "colab": {
          "base_uri": "https://localhost:8080/"
        },
        "id": "McOZgfaNfaal",
        "outputId": "9715f98d-2f54-43d0-f299-a3c1b96d8d17"
      },
      "outputs": [
        {
          "data": {
            "image/png": "[encoded data removed]",
            "text/plain": [
              "<Figure size 1008x576 with 2 Axes>"
            ]
          },
          "metadata": {
            "needs_background": "light"
          },
          "output_type": "display_data"
        }
      ],
      "source": [
        "percentagens = []\n",
        "\n",
        "\n",
        "\n",
        "modalidade1 = df_cdc[(df_cdc['Modalidade_Inscrita'] == 1) & (df_cdc['Situacao_Aluno_Agrupada'] == 'Evasão')].count()\n",
        "modalidade2 = df_cdc[(df_cdc['Modalidade_Inscrita'] == 2) & (df_cdc['Situacao_Aluno_Agrupada'] == 'Evasão')].count()\n",
        "modalidade3 = df_cdc[(df_cdc['Modalidade_Inscrita'] == 3) & (df_cdc['Situacao_Aluno_Agrupada'] == 'Evasão')].count()\n",
        "modalidade4 = df_cdc[(df_cdc['Modalidade_Inscrita'] == 4) & (df_cdc['Situacao_Aluno_Agrupada'] == 'Evasão')].count()\n",
        "modalidade5 = df_cdc[(df_cdc['Modalidade_Inscrita'] == 5) & (df_cdc['Situacao_Aluno_Agrupada'] == 'Evasão')].count()\n",
        "modalidade6 = df_cdc[(df_cdc['Modalidade_Inscrita'] == 6) & (df_cdc['Situacao_Aluno_Agrupada'] == 'Evasão')].count()\n",
        "modalidade7 = df_cdc[(df_cdc['Modalidade_Inscrita'] == 7) & (df_cdc['Situacao_Aluno_Agrupada'] == 'Evasão')].count()\n",
        "modalidade8 = df_cdc[(df_cdc['Modalidade_Inscrita'] == 8) & (df_cdc['Situacao_Aluno_Agrupada'] == 'Evasão')].count()\n",
        "modalidade9 = df_cdc[(df_cdc['Modalidade_Inscrita'] == 9) & (df_cdc['Situacao_Aluno_Agrupada'] == 'Evasão')].count()\n",
        "\n",
        "\n",
        "\n",
        "modalidades = [modalidade1[0], modalidade2[0], modalidade3[0], modalidade4[0],\n",
        "               modalidade5[0], modalidade6[0], modalidade7[0], modalidade8[0], modalidade9[0]]\n",
        "\n",
        "\n",
        "modalidade1Total = df_cdc[(df_cdc['Modalidade_Inscrita'] == 1)].count()\n",
        "modalidade2Total = df_cdc[(df_cdc['Modalidade_Inscrita'] == 2)].count()\n",
        "modalidade3Total = df_cdc[(df_cdc['Modalidade_Inscrita'] == 3)].count()\n",
        "modalidade4Total = df_cdc[(df_cdc['Modalidade_Inscrita'] == 4)].count()\n",
        "modalidade5Total = df_cdc[(df_cdc['Modalidade_Inscrita'] == 5)].count()\n",
        "modalidade6Total = df_cdc[(df_cdc['Modalidade_Inscrita'] == 6)].count()\n",
        "modalidade7Total = df_cdc[(df_cdc['Modalidade_Inscrita'] == 7)].count()\n",
        "modalidade8Total = df_cdc[(df_cdc['Modalidade_Inscrita'] == 8)].count()\n",
        "modalidade9Total = df_cdc[(df_cdc['Modalidade_Inscrita'] == 9)].count()\n",
        "\n",
        "modalidadesTotais = [modalidade1Total[0], modalidade2Total[0], modalidade3Total[0], modalidade4Total[0],\n",
        "               modalidade5Total[0], modalidade6Total[0], modalidade7Total[0], modalidade8Total[0], modalidade9Total[0]]\n",
        "\n",
        "for i in range(0,9):\n",
        "  if(modalidadesTotais[i] == 0):\n",
        "    percentagens.append(1)\n",
        "  else:\n",
        "    percentagens.append(modalidades[i] / modalidadesTotais[i] * 100)\n",
        "\n",
        "\n",
        "labels = ['Modalidade 1', 'Modalidade 2', 'Modalidade 3', 'Modalidade 4',\n",
        "          'Modalidade 5', 'Modalidade 6', 'Modalidade 7', 'Modalidade 8', 'Modalidade 9']\n",
        "\n",
        "\n",
        "labelsPercentagem = ['1', '2', '3', '4',\n",
        "          '5', '6', '7', '8', '9']\n",
        "\n",
        "\n",
        "fig, ax = plt.subplots(1, 2, figsize=(14, 8))\n",
        "\n",
        "\n",
        "ax[0].pie(modalidades, labels=labels, autopct='%1.1f%%')\n",
        "ax[0].set_title('Distribuição das Modalidades de Inscrição')\n",
        "ax[0].axis('equal')\n",
        "\n",
        "\n",
        "x = np.arange(len(labels))\n",
        "width = 0.65\n",
        "\n",
        "ax[1].bar(x, percentagens, width)\n",
        "ax[1].set_xticks(x)\n",
        "ax[1].set_xticklabels(labelsPercentagem)\n",
        "ax[1].set_ylabel('Percentagens')\n",
        "ax[1].set_title('Distribuição das Modalidades de Inscrição percentualmente')\n",
        "\n",
        "\n",
        "plt.subplots_adjust(wspace=0.7)\n",
        "\n",
        "\n",
        "plt.show()"
      ]
    },
    {
      "cell_type": "markdown",
      "id": "UEqVdgEUXhXL",
      "metadata": {
        "id": "UEqVdgEUXhXL"
      },
      "source": [
        "## **Pergunta 5:** Os alunos que vieram de escolas públicas tendem a abandonar o curso?"
      ]
    },
    {
      "cell_type": "code",
      "execution_count": null,
      "id": "L4d-83xNYYvy",
      "metadata": {
        "colab": {
          "base_uri": "https://localhost:8080/"
        },
        "id": "L4d-83xNYYvy",
        "outputId": "3f8fed1e-f6a3-4282-d9a6-48de58b8b510"
      },
      "outputs": [
        {
          "name": "stdout",
          "output_type": "stream",
          "text": [
            "Quantidade total de pessoas da modalidade 9 no curso inteiro:  280\n",
            "Quantidade total de pessoas da modalidade 1 a 8 no curso inteiro:  234\n"
          ]
        },
        {
          "data": {
            "text/html": [
              "<div>\n",
              "<style scoped>\n",
              "    .dataframe tbody tr th:only-of-type {\n",
              "        vertical-align: middle;\n",
              "    }\n",
              "\n",
              "    .dataframe tbody tr th {\n",
              "        vertical-align: top;\n",
              "    }\n",
              "\n",
              "    .dataframe thead th {\n",
              "        text-align: right;\n",
              "    }\n",
              "</style>\n",
              "<table border=\"1\" class=\"dataframe\">\n",
              "  <thead>\n",
              "    <tr style=\"text-align: right;\">\n",
              "      <th></th>\n",
              "      <th>Identificador</th>\n",
              "      <th>Ano_Nascimento</th>\n",
              "      <th>Sexo</th>\n",
              "      <th>Campus</th>\n",
              "      <th>Curso_Identificador</th>\n",
              "      <th>Curso</th>\n",
              "      <th>UF_Nascimento</th>\n",
              "      <th>Municipio_Nascimento</th>\n",
              "      <th>Admissao</th>\n",
              "      <th>Saida</th>\n",
              "      <th>Codigo_Situacao_Aluno</th>\n",
              "      <th>Situacao_Aluno</th>\n",
              "      <th>Situacao_Aluno_Agrupada</th>\n",
              "      <th>ENEM</th>\n",
              "      <th>Num_Reprovacoes</th>\n",
              "      <th>Raca</th>\n",
              "      <th>CRA</th>\n",
              "    </tr>\n",
              "    <tr>\n",
              "      <th>Modalidade_Inscrita</th>\n",
              "      <th></th>\n",
              "      <th></th>\n",
              "      <th></th>\n",
              "      <th></th>\n",
              "      <th></th>\n",
              "      <th></th>\n",
              "      <th></th>\n",
              "      <th></th>\n",
              "      <th></th>\n",
              "      <th></th>\n",
              "      <th></th>\n",
              "      <th></th>\n",
              "      <th></th>\n",
              "      <th></th>\n",
              "      <th></th>\n",
              "      <th></th>\n",
              "      <th></th>\n",
              "    </tr>\n",
              "  </thead>\n",
              "  <tbody>\n",
              "    <tr>\n",
              "      <th>0.0</th>\n",
              "      <td>10</td>\n",
              "      <td>10</td>\n",
              "      <td>10</td>\n",
              "      <td>10</td>\n",
              "      <td>10</td>\n",
              "      <td>10</td>\n",
              "      <td>10</td>\n",
              "      <td>10</td>\n",
              "      <td>10</td>\n",
              "      <td>10</td>\n",
              "      <td>10</td>\n",
              "      <td>10</td>\n",
              "      <td>10</td>\n",
              "      <td>10</td>\n",
              "      <td>10</td>\n",
              "      <td>10</td>\n",
              "      <td>10</td>\n",
              "    </tr>\n",
              "    <tr>\n",
              "      <th>1.0</th>\n",
              "      <td>63</td>\n",
              "      <td>63</td>\n",
              "      <td>63</td>\n",
              "      <td>63</td>\n",
              "      <td>63</td>\n",
              "      <td>63</td>\n",
              "      <td>63</td>\n",
              "      <td>63</td>\n",
              "      <td>63</td>\n",
              "      <td>63</td>\n",
              "      <td>63</td>\n",
              "      <td>63</td>\n",
              "      <td>63</td>\n",
              "      <td>63</td>\n",
              "      <td>63</td>\n",
              "      <td>63</td>\n",
              "      <td>63</td>\n",
              "    </tr>\n",
              "    <tr>\n",
              "      <th>2.0</th>\n",
              "      <td>1</td>\n",
              "      <td>1</td>\n",
              "      <td>1</td>\n",
              "      <td>1</td>\n",
              "      <td>1</td>\n",
              "      <td>1</td>\n",
              "      <td>1</td>\n",
              "      <td>1</td>\n",
              "      <td>1</td>\n",
              "      <td>1</td>\n",
              "      <td>1</td>\n",
              "      <td>1</td>\n",
              "      <td>1</td>\n",
              "      <td>1</td>\n",
              "      <td>1</td>\n",
              "      <td>1</td>\n",
              "      <td>1</td>\n",
              "    </tr>\n",
              "    <tr>\n",
              "      <th>3.0</th>\n",
              "      <td>55</td>\n",
              "      <td>55</td>\n",
              "      <td>55</td>\n",
              "      <td>55</td>\n",
              "      <td>55</td>\n",
              "      <td>55</td>\n",
              "      <td>55</td>\n",
              "      <td>55</td>\n",
              "      <td>55</td>\n",
              "      <td>55</td>\n",
              "      <td>55</td>\n",
              "      <td>55</td>\n",
              "      <td>55</td>\n",
              "      <td>55</td>\n",
              "      <td>55</td>\n",
              "      <td>55</td>\n",
              "      <td>55</td>\n",
              "    </tr>\n",
              "    <tr>\n",
              "      <th>5.0</th>\n",
              "      <td>65</td>\n",
              "      <td>65</td>\n",
              "      <td>65</td>\n",
              "      <td>65</td>\n",
              "      <td>65</td>\n",
              "      <td>65</td>\n",
              "      <td>65</td>\n",
              "      <td>65</td>\n",
              "      <td>65</td>\n",
              "      <td>65</td>\n",
              "      <td>65</td>\n",
              "      <td>65</td>\n",
              "      <td>65</td>\n",
              "      <td>65</td>\n",
              "      <td>65</td>\n",
              "      <td>65</td>\n",
              "      <td>65</td>\n",
              "    </tr>\n",
              "    <tr>\n",
              "      <th>7.0</th>\n",
              "      <td>49</td>\n",
              "      <td>49</td>\n",
              "      <td>49</td>\n",
              "      <td>49</td>\n",
              "      <td>49</td>\n",
              "      <td>49</td>\n",
              "      <td>49</td>\n",
              "      <td>49</td>\n",
              "      <td>49</td>\n",
              "      <td>49</td>\n",
              "      <td>49</td>\n",
              "      <td>49</td>\n",
              "      <td>49</td>\n",
              "      <td>49</td>\n",
              "      <td>49</td>\n",
              "      <td>49</td>\n",
              "      <td>49</td>\n",
              "    </tr>\n",
              "    <tr>\n",
              "      <th>8.0</th>\n",
              "      <td>1</td>\n",
              "      <td>1</td>\n",
              "      <td>1</td>\n",
              "      <td>1</td>\n",
              "      <td>1</td>\n",
              "      <td>1</td>\n",
              "      <td>1</td>\n",
              "      <td>1</td>\n",
              "      <td>1</td>\n",
              "      <td>1</td>\n",
              "      <td>1</td>\n",
              "      <td>1</td>\n",
              "      <td>1</td>\n",
              "      <td>1</td>\n",
              "      <td>1</td>\n",
              "      <td>1</td>\n",
              "      <td>1</td>\n",
              "    </tr>\n",
              "    <tr>\n",
              "      <th>9.0</th>\n",
              "      <td>280</td>\n",
              "      <td>280</td>\n",
              "      <td>280</td>\n",
              "      <td>280</td>\n",
              "      <td>280</td>\n",
              "      <td>280</td>\n",
              "      <td>280</td>\n",
              "      <td>280</td>\n",
              "      <td>280</td>\n",
              "      <td>280</td>\n",
              "      <td>280</td>\n",
              "      <td>280</td>\n",
              "      <td>280</td>\n",
              "      <td>280</td>\n",
              "      <td>280</td>\n",
              "      <td>280</td>\n",
              "      <td>280</td>\n",
              "    </tr>\n",
              "  </tbody>\n",
              "</table>\n",
              "</div>"
            ],
            "text/plain": [
              "                     Identificador  Ano_Nascimento  Sexo  Campus  \\\n",
              "Modalidade_Inscrita                                                \n",
              "0.0                             10              10    10      10   \n",
              "1.0                             63              63    63      63   \n",
              "2.0                              1               1     1       1   \n",
              "3.0                             55              55    55      55   \n",
              "5.0                             65              65    65      65   \n",
              "7.0                             49              49    49      49   \n",
              "8.0                              1               1     1       1   \n",
              "9.0                            280             280   280     280   \n",
              "\n",
              "                     Curso_Identificador  Curso  UF_Nascimento  \\\n",
              "Modalidade_Inscrita                                              \n",
              "0.0                                   10     10             10   \n",
              "1.0                                   63     63             63   \n",
              "2.0                                    1      1              1   \n",
              "3.0                                   55     55             55   \n",
              "5.0                                   65     65             65   \n",
              "7.0                                   49     49             49   \n",
              "8.0                                    1      1              1   \n",
              "9.0                                  280    280            280   \n",
              "\n",
              "                     Municipio_Nascimento  Admissao  Saida  \\\n",
              "Modalidade_Inscrita                                          \n",
              "0.0                                    10        10     10   \n",
              "1.0                                    63        63     63   \n",
              "2.0                                     1         1      1   \n",
              "3.0                                    55        55     55   \n",
              "5.0                                    65        65     65   \n",
              "7.0                                    49        49     49   \n",
              "8.0                                     1         1      1   \n",
              "9.0                                   280       280    280   \n",
              "\n",
              "                     Codigo_Situacao_Aluno  Situacao_Aluno  \\\n",
              "Modalidade_Inscrita                                          \n",
              "0.0                                     10              10   \n",
              "1.0                                     63              63   \n",
              "2.0                                      1               1   \n",
              "3.0                                     55              55   \n",
              "5.0                                     65              65   \n",
              "7.0                                     49              49   \n",
              "8.0                                      1               1   \n",
              "9.0                                    280             280   \n",
              "\n",
              "                     Situacao_Aluno_Agrupada  ENEM  Num_Reprovacoes  Raca  CRA  \n",
              "Modalidade_Inscrita                                                             \n",
              "0.0                                       10    10               10    10   10  \n",
              "1.0                                       63    63               63    63   63  \n",
              "2.0                                        1     1                1     1    1  \n",
              "3.0                                       55    55               55    55   55  \n",
              "5.0                                       65    65               65    65   65  \n",
              "7.0                                       49    49               49    49   49  \n",
              "8.0                                        1     1                1     1    1  \n",
              "9.0                                      280   280              280   280  280  "
            ]
          },
          "execution_count": 34,
          "metadata": {},
          "output_type": "execute_result"
        }
      ],
      "source": [
        "df_cdc_modalidade = df_cdc.groupby('Modalidade_Inscrita').count()\n",
        "\n",
        "qntdTotal_modalidade9 = df_cdc_modalidade.iloc[7:8].sum()[0]\n",
        "print(\"Quantidade total de pessoas da modalidade 9 no curso inteiro: \",qntdTotal_modalidade9)\n",
        "\n",
        "qntdTotal_modalidades1_a_8 = df_cdc_modalidade.iloc[1:7].sum()[0] # Não está contando a modalidade 0\n",
        "print(\"Quantidade total de pessoas da modalidade 1 a 8 no curso inteiro: \",qntdTotal_modalidades1_a_8)\n",
        "\n",
        "\n",
        "df_cdc_modalidade"
      ]
    },
    {
      "cell_type": "code",
      "execution_count": null,
      "id": "M968FvdhYbia",
      "metadata": {
        "colab": {
          "base_uri": "https://localhost:8080/"
        },
        "id": "M968FvdhYbia",
        "outputId": "79c55080-e2ee-4cf2-c100-31eb5d1c2397"
      },
      "outputs": [
        {
          "name": "stdout",
          "output_type": "stream",
          "text": [
            "Quantidade total de pessoas da modalidade 9 que abandonaram o curso:  103\n",
            "Quantidade total de pessoas da modalidade 1 a 8 que abandonaram o curso:  64\n"
          ]
        },
        {
          "data": {
            "text/html": [
              "<div>\n",
              "<style scoped>\n",
              "    .dataframe tbody tr th:only-of-type {\n",
              "        vertical-align: middle;\n",
              "    }\n",
              "\n",
              "    .dataframe tbody tr th {\n",
              "        vertical-align: top;\n",
              "    }\n",
              "\n",
              "    .dataframe thead th {\n",
              "        text-align: right;\n",
              "    }\n",
              "</style>\n",
              "<table border=\"1\" class=\"dataframe\">\n",
              "  <thead>\n",
              "    <tr style=\"text-align: right;\">\n",
              "      <th></th>\n",
              "      <th>Identificador</th>\n",
              "      <th>Ano_Nascimento</th>\n",
              "      <th>Sexo</th>\n",
              "      <th>Campus</th>\n",
              "      <th>Curso_Identificador</th>\n",
              "      <th>Curso</th>\n",
              "      <th>UF_Nascimento</th>\n",
              "      <th>Municipio_Nascimento</th>\n",
              "      <th>Admissao</th>\n",
              "      <th>Saida</th>\n",
              "      <th>Codigo_Situacao_Aluno</th>\n",
              "      <th>Situacao_Aluno</th>\n",
              "      <th>Situacao_Aluno_Agrupada</th>\n",
              "      <th>ENEM</th>\n",
              "      <th>Num_Reprovacoes</th>\n",
              "      <th>Raca</th>\n",
              "      <th>CRA</th>\n",
              "    </tr>\n",
              "    <tr>\n",
              "      <th>Modalidade_Inscrita</th>\n",
              "      <th></th>\n",
              "      <th></th>\n",
              "      <th></th>\n",
              "      <th></th>\n",
              "      <th></th>\n",
              "      <th></th>\n",
              "      <th></th>\n",
              "      <th></th>\n",
              "      <th></th>\n",
              "      <th></th>\n",
              "      <th></th>\n",
              "      <th></th>\n",
              "      <th></th>\n",
              "      <th></th>\n",
              "      <th></th>\n",
              "      <th></th>\n",
              "      <th></th>\n",
              "    </tr>\n",
              "  </thead>\n",
              "  <tbody>\n",
              "    <tr>\n",
              "      <th>0.0</th>\n",
              "      <td>3</td>\n",
              "      <td>3</td>\n",
              "      <td>3</td>\n",
              "      <td>3</td>\n",
              "      <td>3</td>\n",
              "      <td>3</td>\n",
              "      <td>3</td>\n",
              "      <td>3</td>\n",
              "      <td>3</td>\n",
              "      <td>3</td>\n",
              "      <td>3</td>\n",
              "      <td>3</td>\n",
              "      <td>3</td>\n",
              "      <td>3</td>\n",
              "      <td>3</td>\n",
              "      <td>3</td>\n",
              "      <td>3</td>\n",
              "    </tr>\n",
              "    <tr>\n",
              "      <th>1.0</th>\n",
              "      <td>18</td>\n",
              "      <td>18</td>\n",
              "      <td>18</td>\n",
              "      <td>18</td>\n",
              "      <td>18</td>\n",
              "      <td>18</td>\n",
              "      <td>18</td>\n",
              "      <td>18</td>\n",
              "      <td>18</td>\n",
              "      <td>18</td>\n",
              "      <td>18</td>\n",
              "      <td>18</td>\n",
              "      <td>18</td>\n",
              "      <td>18</td>\n",
              "      <td>18</td>\n",
              "      <td>18</td>\n",
              "      <td>18</td>\n",
              "    </tr>\n",
              "    <tr>\n",
              "      <th>2.0</th>\n",
              "      <td>1</td>\n",
              "      <td>1</td>\n",
              "      <td>1</td>\n",
              "      <td>1</td>\n",
              "      <td>1</td>\n",
              "      <td>1</td>\n",
              "      <td>1</td>\n",
              "      <td>1</td>\n",
              "      <td>1</td>\n",
              "      <td>1</td>\n",
              "      <td>1</td>\n",
              "      <td>1</td>\n",
              "      <td>1</td>\n",
              "      <td>1</td>\n",
              "      <td>1</td>\n",
              "      <td>1</td>\n",
              "      <td>1</td>\n",
              "    </tr>\n",
              "    <tr>\n",
              "      <th>3.0</th>\n",
              "      <td>14</td>\n",
              "      <td>14</td>\n",
              "      <td>14</td>\n",
              "      <td>14</td>\n",
              "      <td>14</td>\n",
              "      <td>14</td>\n",
              "      <td>14</td>\n",
              "      <td>14</td>\n",
              "      <td>14</td>\n",
              "      <td>14</td>\n",
              "      <td>14</td>\n",
              "      <td>14</td>\n",
              "      <td>14</td>\n",
              "      <td>14</td>\n",
              "      <td>14</td>\n",
              "      <td>14</td>\n",
              "      <td>14</td>\n",
              "    </tr>\n",
              "    <tr>\n",
              "      <th>5.0</th>\n",
              "      <td>15</td>\n",
              "      <td>15</td>\n",
              "      <td>15</td>\n",
              "      <td>15</td>\n",
              "      <td>15</td>\n",
              "      <td>15</td>\n",
              "      <td>15</td>\n",
              "      <td>15</td>\n",
              "      <td>15</td>\n",
              "      <td>15</td>\n",
              "      <td>15</td>\n",
              "      <td>15</td>\n",
              "      <td>15</td>\n",
              "      <td>15</td>\n",
              "      <td>15</td>\n",
              "      <td>15</td>\n",
              "      <td>15</td>\n",
              "    </tr>\n",
              "    <tr>\n",
              "      <th>7.0</th>\n",
              "      <td>15</td>\n",
              "      <td>15</td>\n",
              "      <td>15</td>\n",
              "      <td>15</td>\n",
              "      <td>15</td>\n",
              "      <td>15</td>\n",
              "      <td>15</td>\n",
              "      <td>15</td>\n",
              "      <td>15</td>\n",
              "      <td>15</td>\n",
              "      <td>15</td>\n",
              "      <td>15</td>\n",
              "      <td>15</td>\n",
              "      <td>15</td>\n",
              "      <td>15</td>\n",
              "      <td>15</td>\n",
              "      <td>15</td>\n",
              "    </tr>\n",
              "    <tr>\n",
              "      <th>8.0</th>\n",
              "      <td>1</td>\n",
              "      <td>1</td>\n",
              "      <td>1</td>\n",
              "      <td>1</td>\n",
              "      <td>1</td>\n",
              "      <td>1</td>\n",
              "      <td>1</td>\n",
              "      <td>1</td>\n",
              "      <td>1</td>\n",
              "      <td>1</td>\n",
              "      <td>1</td>\n",
              "      <td>1</td>\n",
              "      <td>1</td>\n",
              "      <td>1</td>\n",
              "      <td>1</td>\n",
              "      <td>1</td>\n",
              "      <td>1</td>\n",
              "    </tr>\n",
              "    <tr>\n",
              "      <th>9.0</th>\n",
              "      <td>103</td>\n",
              "      <td>103</td>\n",
              "      <td>103</td>\n",
              "      <td>103</td>\n",
              "      <td>103</td>\n",
              "      <td>103</td>\n",
              "      <td>103</td>\n",
              "      <td>103</td>\n",
              "      <td>103</td>\n",
              "      <td>103</td>\n",
              "      <td>103</td>\n",
              "      <td>103</td>\n",
              "      <td>103</td>\n",
              "      <td>103</td>\n",
              "      <td>103</td>\n",
              "      <td>103</td>\n",
              "      <td>103</td>\n",
              "    </tr>\n",
              "  </tbody>\n",
              "</table>\n",
              "</div>"
            ],
            "text/plain": [
              "                     Identificador  Ano_Nascimento  Sexo  Campus  \\\n",
              "Modalidade_Inscrita                                                \n",
              "0.0                              3               3     3       3   \n",
              "1.0                             18              18    18      18   \n",
              "2.0                              1               1     1       1   \n",
              "3.0                             14              14    14      14   \n",
              "5.0                             15              15    15      15   \n",
              "7.0                             15              15    15      15   \n",
              "8.0                              1               1     1       1   \n",
              "9.0                            103             103   103     103   \n",
              "\n",
              "                     Curso_Identificador  Curso  UF_Nascimento  \\\n",
              "Modalidade_Inscrita                                              \n",
              "0.0                                    3      3              3   \n",
              "1.0                                   18     18             18   \n",
              "2.0                                    1      1              1   \n",
              "3.0                                   14     14             14   \n",
              "5.0                                   15     15             15   \n",
              "7.0                                   15     15             15   \n",
              "8.0                                    1      1              1   \n",
              "9.0                                  103    103            103   \n",
              "\n",
              "                     Municipio_Nascimento  Admissao  Saida  \\\n",
              "Modalidade_Inscrita                                          \n",
              "0.0                                     3         3      3   \n",
              "1.0                                    18        18     18   \n",
              "2.0                                     1         1      1   \n",
              "3.0                                    14        14     14   \n",
              "5.0                                    15        15     15   \n",
              "7.0                                    15        15     15   \n",
              "8.0                                     1         1      1   \n",
              "9.0                                   103       103    103   \n",
              "\n",
              "                     Codigo_Situacao_Aluno  Situacao_Aluno  \\\n",
              "Modalidade_Inscrita                                          \n",
              "0.0                                      3               3   \n",
              "1.0                                     18              18   \n",
              "2.0                                      1               1   \n",
              "3.0                                     14              14   \n",
              "5.0                                     15              15   \n",
              "7.0                                     15              15   \n",
              "8.0                                      1               1   \n",
              "9.0                                    103             103   \n",
              "\n",
              "                     Situacao_Aluno_Agrupada  ENEM  Num_Reprovacoes  Raca  CRA  \n",
              "Modalidade_Inscrita                                                             \n",
              "0.0                                        3     3                3     3    3  \n",
              "1.0                                       18    18               18    18   18  \n",
              "2.0                                        1     1                1     1    1  \n",
              "3.0                                       14    14               14    14   14  \n",
              "5.0                                       15    15               15    15   15  \n",
              "7.0                                       15    15               15    15   15  \n",
              "8.0                                        1     1                1     1    1  \n",
              "9.0                                      103   103              103   103  103  "
            ]
          },
          "execution_count": 35,
          "metadata": {},
          "output_type": "execute_result"
        }
      ],
      "source": [
        "df_cdc_abandono = df_cdc[df_cdc['Codigo_Situacao_Aluno'] == 'A']\n",
        "\n",
        "df_cdc_abandono_modalidade = df_cdc_abandono.groupby('Modalidade_Inscrita').count()\n",
        "\n",
        "qntdTotal_abandono_modalidade9 = df_cdc_abandono_modalidade.iloc[7:8].sum()[0]\n",
        "print(\"Quantidade total de pessoas da modalidade 9 que abandonaram o curso: \",qntdTotal_abandono_modalidade9)\n",
        "\n",
        "qntdTotal_abandono_modalidades1_a_8 = df_cdc_abandono_modalidade.iloc[1:7].sum()[0] # Não está contando a modalidade 0\n",
        "print(\"Quantidade total de pessoas da modalidade 1 a 8 que abandonaram o curso: \",qntdTotal_abandono_modalidades1_a_8)\n",
        "\n",
        "df_cdc_abandono_modalidade"
      ]
    },
    {
      "cell_type": "code",
      "execution_count": null,
      "id": "H0RV2z47Yi_k",
      "metadata": {
        "colab": {
          "base_uri": "https://localhost:8080/"
        },
        "id": "H0RV2z47Yi_k",
        "outputId": "d427bc5f-5095-4615-a6bd-af87ec500b3d"
      },
      "outputs": [
        {
          "name": "stdout",
          "output_type": "stream",
          "text": [
            "Porcentagem de pessoas que abandonaram o curso da modalidade 9: 36.78571428571429 %\n",
            "\n",
            "Porcentagem de pessoas que abandonaram o curso das modalidades 1 a 8: 27.350427350427353 %\n",
            "\n"
          ]
        }
      ],
      "source": [
        "porcentagem_modalidade9 = (qntdTotal_abandono_modalidade9/qntdTotal_modalidade9) * 100\n",
        "\n",
        "porcentagem_modalidade1_a_8 = (qntdTotal_abandono_modalidades1_a_8/qntdTotal_modalidades1_a_8)  * 100\n",
        "\n",
        "print(\"Porcentagem de pessoas que abandonaram o curso da modalidade 9:\", porcentagem_modalidade9,\"%\\n\")\n",
        "print(\"Porcentagem de pessoas que abandonaram o curso das modalidades 1 a 8:\", porcentagem_modalidade1_a_8,\"%\\n\")"
      ]
    },
    {
      "cell_type": "markdown",
      "id": "WgdS9MhGdItA",
      "metadata": {
        "id": "WgdS9MhGdItA"
      },
      "source": [
        "De acordo com os dados calculados, não necessariamente as pessoas que vieram de escola pública tendem a abandonar o curso, pois, analisando os dados, em torno de 280 alunos que entraram pela ampla concorrência, 103, ou seja, 36.80% abandonaram o curso, em contrapartida, de 234 alunos que entraram pelas modalidades inclusivas de escolas públicas, apenas 64, ou seja, 27.40% abandonaram o curso."
      ]
    },
    {
      "cell_type": "markdown",
      "id": "QlYrxB-_oMut",
      "metadata": {
        "id": "QlYrxB-_oMut"
      },
      "source": [
        "## **Pergunta 6**: Visamos calcular o valor médio de reprovações que os alunos que evadiram tiveram e analisar se há um padrão ou intervalo de números que aparecem de forma frequente."
      ]
    },
    {
      "cell_type": "code",
      "execution_count": null,
      "id": "piqityDip8HC",
      "metadata": {
        "id": "piqityDip8HC"
      },
      "outputs": [],
      "source": [
        "df_alunos_evadiram = dados[dados['Situacao_Aluno_Agrupada'] == 'Evasão']"
      ]
    },
    {
      "cell_type": "code",
      "execution_count": null,
      "id": "7IcsiMobqR_6",
      "metadata": {
        "id": "7IcsiMobqR_6"
      },
      "outputs": [],
      "source": [
        "# Converter a coluna de object para int\n",
        "df_alunos_evadiram['Num_Reprovacoes'] = df_alunos_evadiram['Num_Reprovacoes'].astype(int)"
      ]
    },
    {
      "cell_type": "code",
      "execution_count": null,
      "id": "ihaGtN7Wq2Wz",
      "metadata": {
        "colab": {
          "base_uri": "https://localhost:8080/"
        },
        "id": "ihaGtN7Wq2Wz",
        "outputId": "7093830a-88a8-4f02-9b86-d3b436546feb"
      },
      "outputs": [
        {
          "name": "stdout",
          "output_type": "stream",
          "text": [
            "Tabela de Frequência das Reprovações:\n",
            "(Número de reprovações/Quantidade de alunos)\n",
            "0     23\n",
            "1     23\n",
            "2     34\n",
            "3     30\n",
            "4     59\n",
            "5     83\n",
            "6     37\n",
            "7     35\n",
            "8     35\n",
            "9     45\n",
            "10    36\n",
            "11    34\n",
            "12    20\n",
            "13    28\n",
            "14    22\n",
            "15    21\n",
            "16    17\n",
            "17    22\n",
            "18    14\n",
            "19     7\n",
            "20     7\n",
            "21     3\n",
            "22     6\n",
            "23     2\n",
            "24     1\n",
            "25     2\n",
            "26     1\n",
            "27     1\n",
            "Name: Num_Reprovacoes, dtype: int64\n"
          ]
        }
      ],
      "source": [
        "# Calcular a frequência dos valores de reprovações\n",
        "frequencia_reprovacoes = df_alunos_evadiram['Num_Reprovacoes'].value_counts().sort_index()\n",
        "\n",
        "# Imprimir a tabela de frequência\n",
        "print(f'Tabela de Frequência das Reprovações:')\n",
        "print(f'(Número de reprovações/Quantidade de alunos)')\n",
        "print(frequencia_reprovacoes)"
      ]
    },
    {
      "cell_type": "code",
      "execution_count": null,
      "id": "1HlRxtVsuhME",
      "metadata": {
        "colab": {
          "base_uri": "https://localhost:8080/"
        },
        "id": "1HlRxtVsuhME",
        "outputId": "15a06cc9-96c6-46a4-ff45-5dacdaf916d5"
      },
      "outputs": [
        {
          "data": {
            "image/png": "[encoded data removed]",
            "text/plain": [
              "<Figure size 936x576 with 1 Axes>"
            ]
          },
          "metadata": {
            "needs_background": "light"
          },
          "output_type": "display_data"
        }
      ],
      "source": [
        "plt.figure(figsize=(13, 8))\n",
        "frequencia_reprovacoes.plot(kind='bar')\n",
        "plt.xlabel('Reprovações')\n",
        "plt.ylabel('Frequência')\n",
        "plt.title('Distribuição de Reprovações')\n",
        "plt.show()"
      ]
    },
    {
      "cell_type": "markdown",
      "id": "K4KZRyQ2uxJh",
      "metadata": {
        "id": "K4KZRyQ2uxJh"
      },
      "source": [
        "> Podemos observar um pico na frequência em torno de 5 reprovações e uma tendência de diminuição à medida que o número de reprovações aumenta ou diminui em relação a esse pico. Isso pode indicar que a maioria dos alunos que evadiu apresentava em torno de 5 reprovações."
      ]
    },
    {
      "cell_type": "markdown",
      "id": "iNDAbiJJdlQg",
      "metadata": {
        "id": "iNDAbiJJdlQg"
      },
      "source": [
        "## **Pergunta 7**: Qual a média de idade das pessoas que decidiram abandonar o curso. O aluno ser mais velho ou mais novo influencia na decisão de saída?"
      ]
    },
    {
      "cell_type": "code",
      "execution_count": null,
      "id": "bhBkhSpDdsQh",
      "metadata": {
        "colab": {
          "base_uri": "https://localhost:8080/"
        },
        "id": "bhBkhSpDdsQh",
        "outputId": "7e394b32-cd42-4105-9f09-3aa63697d6be"
      },
      "outputs": [
        {
          "name": "stdout",
          "output_type": "stream",
          "text": [
            "Média da idade das pessoas que abandonaram o curso:  21.16470588235294\n",
            "Porcentagem de pessoas que abandonaram o curso que possuem entre 18 a 21 anos: 71.76470588235294 %\n",
            "\n"
          ]
        },
        {
          "data": {
            "text/html": [
              "<div>\n",
              "<style scoped>\n",
              "    .dataframe tbody tr th:only-of-type {\n",
              "        vertical-align: middle;\n",
              "    }\n",
              "\n",
              "    .dataframe tbody tr th {\n",
              "        vertical-align: top;\n",
              "    }\n",
              "\n",
              "    .dataframe thead th {\n",
              "        text-align: right;\n",
              "    }\n",
              "</style>\n",
              "<table border=\"1\" class=\"dataframe\">\n",
              "  <thead>\n",
              "    <tr style=\"text-align: right;\">\n",
              "      <th></th>\n",
              "      <th>Identificador</th>\n",
              "      <th>Ano_Nascimento</th>\n",
              "      <th>Sexo</th>\n",
              "      <th>Campus</th>\n",
              "      <th>Curso_Identificador</th>\n",
              "      <th>Curso</th>\n",
              "      <th>UF_Nascimento</th>\n",
              "      <th>Municipio_Nascimento</th>\n",
              "      <th>Admissao</th>\n",
              "      <th>Saida</th>\n",
              "      <th>Codigo_Situacao_Aluno</th>\n",
              "      <th>Situacao_Aluno</th>\n",
              "      <th>Situacao_Aluno_Agrupada</th>\n",
              "      <th>Modalidade_Inscrita</th>\n",
              "      <th>ENEM</th>\n",
              "      <th>Num_Reprovacoes</th>\n",
              "      <th>Raca</th>\n",
              "      <th>CRA</th>\n",
              "    </tr>\n",
              "    <tr>\n",
              "      <th>IdadeAbandono</th>\n",
              "      <th></th>\n",
              "      <th></th>\n",
              "      <th></th>\n",
              "      <th></th>\n",
              "      <th></th>\n",
              "      <th></th>\n",
              "      <th></th>\n",
              "      <th></th>\n",
              "      <th></th>\n",
              "      <th></th>\n",
              "      <th></th>\n",
              "      <th></th>\n",
              "      <th></th>\n",
              "      <th></th>\n",
              "      <th></th>\n",
              "      <th></th>\n",
              "      <th></th>\n",
              "      <th></th>\n",
              "    </tr>\n",
              "  </thead>\n",
              "  <tbody>\n",
              "    <tr>\n",
              "      <th>18.0</th>\n",
              "      <td>36</td>\n",
              "      <td>36</td>\n",
              "      <td>36</td>\n",
              "      <td>36</td>\n",
              "      <td>36</td>\n",
              "      <td>36</td>\n",
              "      <td>36</td>\n",
              "      <td>36</td>\n",
              "      <td>36</td>\n",
              "      <td>36</td>\n",
              "      <td>36</td>\n",
              "      <td>36</td>\n",
              "      <td>36</td>\n",
              "      <td>36</td>\n",
              "      <td>36</td>\n",
              "      <td>36</td>\n",
              "      <td>36</td>\n",
              "      <td>36</td>\n",
              "    </tr>\n",
              "    <tr>\n",
              "      <th>19.0</th>\n",
              "      <td>41</td>\n",
              "      <td>41</td>\n",
              "      <td>41</td>\n",
              "      <td>41</td>\n",
              "      <td>41</td>\n",
              "      <td>41</td>\n",
              "      <td>41</td>\n",
              "      <td>41</td>\n",
              "      <td>41</td>\n",
              "      <td>41</td>\n",
              "      <td>41</td>\n",
              "      <td>41</td>\n",
              "      <td>41</td>\n",
              "      <td>41</td>\n",
              "      <td>41</td>\n",
              "      <td>41</td>\n",
              "      <td>41</td>\n",
              "      <td>41</td>\n",
              "    </tr>\n",
              "    <tr>\n",
              "      <th>20.0</th>\n",
              "      <td>25</td>\n",
              "      <td>25</td>\n",
              "      <td>25</td>\n",
              "      <td>25</td>\n",
              "      <td>25</td>\n",
              "      <td>25</td>\n",
              "      <td>25</td>\n",
              "      <td>25</td>\n",
              "      <td>25</td>\n",
              "      <td>25</td>\n",
              "      <td>25</td>\n",
              "      <td>25</td>\n",
              "      <td>25</td>\n",
              "      <td>25</td>\n",
              "      <td>25</td>\n",
              "      <td>25</td>\n",
              "      <td>25</td>\n",
              "      <td>25</td>\n",
              "    </tr>\n",
              "    <tr>\n",
              "      <th>21.0</th>\n",
              "      <td>20</td>\n",
              "      <td>20</td>\n",
              "      <td>20</td>\n",
              "      <td>20</td>\n",
              "      <td>20</td>\n",
              "      <td>20</td>\n",
              "      <td>20</td>\n",
              "      <td>20</td>\n",
              "      <td>20</td>\n",
              "      <td>20</td>\n",
              "      <td>20</td>\n",
              "      <td>20</td>\n",
              "      <td>20</td>\n",
              "      <td>20</td>\n",
              "      <td>20</td>\n",
              "      <td>20</td>\n",
              "      <td>20</td>\n",
              "      <td>20</td>\n",
              "    </tr>\n",
              "    <tr>\n",
              "      <th>22.0</th>\n",
              "      <td>11</td>\n",
              "      <td>11</td>\n",
              "      <td>11</td>\n",
              "      <td>11</td>\n",
              "      <td>11</td>\n",
              "      <td>11</td>\n",
              "      <td>11</td>\n",
              "      <td>11</td>\n",
              "      <td>11</td>\n",
              "      <td>11</td>\n",
              "      <td>11</td>\n",
              "      <td>11</td>\n",
              "      <td>11</td>\n",
              "      <td>11</td>\n",
              "      <td>11</td>\n",
              "      <td>11</td>\n",
              "      <td>11</td>\n",
              "      <td>11</td>\n",
              "    </tr>\n",
              "    <tr>\n",
              "      <th>23.0</th>\n",
              "      <td>10</td>\n",
              "      <td>10</td>\n",
              "      <td>10</td>\n",
              "      <td>10</td>\n",
              "      <td>10</td>\n",
              "      <td>10</td>\n",
              "      <td>10</td>\n",
              "      <td>10</td>\n",
              "      <td>10</td>\n",
              "      <td>10</td>\n",
              "      <td>10</td>\n",
              "      <td>10</td>\n",
              "      <td>10</td>\n",
              "      <td>10</td>\n",
              "      <td>10</td>\n",
              "      <td>10</td>\n",
              "      <td>10</td>\n",
              "      <td>10</td>\n",
              "    </tr>\n",
              "    <tr>\n",
              "      <th>24.0</th>\n",
              "      <td>8</td>\n",
              "      <td>8</td>\n",
              "      <td>8</td>\n",
              "      <td>8</td>\n",
              "      <td>8</td>\n",
              "      <td>8</td>\n",
              "      <td>8</td>\n",
              "      <td>8</td>\n",
              "      <td>8</td>\n",
              "      <td>8</td>\n",
              "      <td>8</td>\n",
              "      <td>8</td>\n",
              "      <td>8</td>\n",
              "      <td>8</td>\n",
              "      <td>8</td>\n",
              "      <td>8</td>\n",
              "      <td>8</td>\n",
              "      <td>8</td>\n",
              "    </tr>\n",
              "    <tr>\n",
              "      <th>25.0</th>\n",
              "      <td>2</td>\n",
              "      <td>2</td>\n",
              "      <td>2</td>\n",
              "      <td>2</td>\n",
              "      <td>2</td>\n",
              "      <td>2</td>\n",
              "      <td>2</td>\n",
              "      <td>2</td>\n",
              "      <td>2</td>\n",
              "      <td>2</td>\n",
              "      <td>2</td>\n",
              "      <td>2</td>\n",
              "      <td>2</td>\n",
              "      <td>2</td>\n",
              "      <td>2</td>\n",
              "      <td>2</td>\n",
              "      <td>2</td>\n",
              "      <td>2</td>\n",
              "    </tr>\n",
              "    <tr>\n",
              "      <th>26.0</th>\n",
              "      <td>2</td>\n",
              "      <td>2</td>\n",
              "      <td>2</td>\n",
              "      <td>2</td>\n",
              "      <td>2</td>\n",
              "      <td>2</td>\n",
              "      <td>2</td>\n",
              "      <td>2</td>\n",
              "      <td>2</td>\n",
              "      <td>2</td>\n",
              "      <td>2</td>\n",
              "      <td>2</td>\n",
              "      <td>2</td>\n",
              "      <td>2</td>\n",
              "      <td>2</td>\n",
              "      <td>2</td>\n",
              "      <td>2</td>\n",
              "      <td>2</td>\n",
              "    </tr>\n",
              "    <tr>\n",
              "      <th>27.0</th>\n",
              "      <td>2</td>\n",
              "      <td>2</td>\n",
              "      <td>2</td>\n",
              "      <td>2</td>\n",
              "      <td>2</td>\n",
              "      <td>2</td>\n",
              "      <td>2</td>\n",
              "      <td>2</td>\n",
              "      <td>2</td>\n",
              "      <td>2</td>\n",
              "      <td>2</td>\n",
              "      <td>2</td>\n",
              "      <td>2</td>\n",
              "      <td>2</td>\n",
              "      <td>2</td>\n",
              "      <td>2</td>\n",
              "      <td>2</td>\n",
              "      <td>2</td>\n",
              "    </tr>\n",
              "    <tr>\n",
              "      <th>28.0</th>\n",
              "      <td>1</td>\n",
              "      <td>1</td>\n",
              "      <td>1</td>\n",
              "      <td>1</td>\n",
              "      <td>1</td>\n",
              "      <td>1</td>\n",
              "      <td>1</td>\n",
              "      <td>1</td>\n",
              "      <td>1</td>\n",
              "      <td>1</td>\n",
              "      <td>1</td>\n",
              "      <td>1</td>\n",
              "      <td>1</td>\n",
              "      <td>1</td>\n",
              "      <td>1</td>\n",
              "      <td>1</td>\n",
              "      <td>1</td>\n",
              "      <td>1</td>\n",
              "    </tr>\n",
              "    <tr>\n",
              "      <th>29.0</th>\n",
              "      <td>2</td>\n",
              "      <td>2</td>\n",
              "      <td>2</td>\n",
              "      <td>2</td>\n",
              "      <td>2</td>\n",
              "      <td>2</td>\n",
              "      <td>2</td>\n",
              "      <td>2</td>\n",
              "      <td>2</td>\n",
              "      <td>2</td>\n",
              "      <td>2</td>\n",
              "      <td>2</td>\n",
              "      <td>2</td>\n",
              "      <td>2</td>\n",
              "      <td>2</td>\n",
              "      <td>2</td>\n",
              "      <td>2</td>\n",
              "      <td>2</td>\n",
              "    </tr>\n",
              "    <tr>\n",
              "      <th>30.0</th>\n",
              "      <td>1</td>\n",
              "      <td>1</td>\n",
              "      <td>1</td>\n",
              "      <td>1</td>\n",
              "      <td>1</td>\n",
              "      <td>1</td>\n",
              "      <td>1</td>\n",
              "      <td>1</td>\n",
              "      <td>1</td>\n",
              "      <td>1</td>\n",
              "      <td>1</td>\n",
              "      <td>1</td>\n",
              "      <td>1</td>\n",
              "      <td>1</td>\n",
              "      <td>1</td>\n",
              "      <td>1</td>\n",
              "      <td>1</td>\n",
              "      <td>1</td>\n",
              "    </tr>\n",
              "    <tr>\n",
              "      <th>31.0</th>\n",
              "      <td>1</td>\n",
              "      <td>1</td>\n",
              "      <td>1</td>\n",
              "      <td>1</td>\n",
              "      <td>1</td>\n",
              "      <td>1</td>\n",
              "      <td>1</td>\n",
              "      <td>1</td>\n",
              "      <td>1</td>\n",
              "      <td>1</td>\n",
              "      <td>1</td>\n",
              "      <td>1</td>\n",
              "      <td>1</td>\n",
              "      <td>1</td>\n",
              "      <td>1</td>\n",
              "      <td>1</td>\n",
              "      <td>1</td>\n",
              "      <td>1</td>\n",
              "    </tr>\n",
              "    <tr>\n",
              "      <th>32.0</th>\n",
              "      <td>2</td>\n",
              "      <td>2</td>\n",
              "      <td>2</td>\n",
              "      <td>2</td>\n",
              "      <td>2</td>\n",
              "      <td>2</td>\n",
              "      <td>2</td>\n",
              "      <td>2</td>\n",
              "      <td>2</td>\n",
              "      <td>2</td>\n",
              "      <td>2</td>\n",
              "      <td>2</td>\n",
              "      <td>2</td>\n",
              "      <td>2</td>\n",
              "      <td>2</td>\n",
              "      <td>2</td>\n",
              "      <td>2</td>\n",
              "      <td>2</td>\n",
              "    </tr>\n",
              "    <tr>\n",
              "      <th>33.0</th>\n",
              "      <td>3</td>\n",
              "      <td>3</td>\n",
              "      <td>3</td>\n",
              "      <td>3</td>\n",
              "      <td>3</td>\n",
              "      <td>3</td>\n",
              "      <td>3</td>\n",
              "      <td>3</td>\n",
              "      <td>3</td>\n",
              "      <td>3</td>\n",
              "      <td>3</td>\n",
              "      <td>3</td>\n",
              "      <td>3</td>\n",
              "      <td>3</td>\n",
              "      <td>3</td>\n",
              "      <td>3</td>\n",
              "      <td>3</td>\n",
              "      <td>3</td>\n",
              "    </tr>\n",
              "    <tr>\n",
              "      <th>36.0</th>\n",
              "      <td>1</td>\n",
              "      <td>1</td>\n",
              "      <td>1</td>\n",
              "      <td>1</td>\n",
              "      <td>1</td>\n",
              "      <td>1</td>\n",
              "      <td>1</td>\n",
              "      <td>1</td>\n",
              "      <td>1</td>\n",
              "      <td>1</td>\n",
              "      <td>1</td>\n",
              "      <td>1</td>\n",
              "      <td>1</td>\n",
              "      <td>1</td>\n",
              "      <td>1</td>\n",
              "      <td>1</td>\n",
              "      <td>1</td>\n",
              "      <td>1</td>\n",
              "    </tr>\n",
              "    <tr>\n",
              "      <th>39.0</th>\n",
              "      <td>1</td>\n",
              "      <td>1</td>\n",
              "      <td>1</td>\n",
              "      <td>1</td>\n",
              "      <td>1</td>\n",
              "      <td>1</td>\n",
              "      <td>1</td>\n",
              "      <td>1</td>\n",
              "      <td>1</td>\n",
              "      <td>1</td>\n",
              "      <td>1</td>\n",
              "      <td>1</td>\n",
              "      <td>1</td>\n",
              "      <td>1</td>\n",
              "      <td>1</td>\n",
              "      <td>1</td>\n",
              "      <td>1</td>\n",
              "      <td>1</td>\n",
              "    </tr>\n",
              "    <tr>\n",
              "      <th>46.0</th>\n",
              "      <td>1</td>\n",
              "      <td>1</td>\n",
              "      <td>1</td>\n",
              "      <td>1</td>\n",
              "      <td>1</td>\n",
              "      <td>1</td>\n",
              "      <td>1</td>\n",
              "      <td>1</td>\n",
              "      <td>1</td>\n",
              "      <td>1</td>\n",
              "      <td>1</td>\n",
              "      <td>1</td>\n",
              "      <td>1</td>\n",
              "      <td>1</td>\n",
              "      <td>1</td>\n",
              "      <td>1</td>\n",
              "      <td>1</td>\n",
              "      <td>1</td>\n",
              "    </tr>\n",
              "  </tbody>\n",
              "</table>\n",
              "</div>"
            ],
            "text/plain": [
              "               Identificador  Ano_Nascimento  Sexo  Campus  \\\n",
              "IdadeAbandono                                                \n",
              "18.0                      36              36    36      36   \n",
              "19.0                      41              41    41      41   \n",
              "20.0                      25              25    25      25   \n",
              "21.0                      20              20    20      20   \n",
              "22.0                      11              11    11      11   \n",
              "23.0                      10              10    10      10   \n",
              "24.0                       8               8     8       8   \n",
              "25.0                       2               2     2       2   \n",
              "26.0                       2               2     2       2   \n",
              "27.0                       2               2     2       2   \n",
              "28.0                       1               1     1       1   \n",
              "29.0                       2               2     2       2   \n",
              "30.0                       1               1     1       1   \n",
              "31.0                       1               1     1       1   \n",
              "32.0                       2               2     2       2   \n",
              "33.0                       3               3     3       3   \n",
              "36.0                       1               1     1       1   \n",
              "39.0                       1               1     1       1   \n",
              "46.0                       1               1     1       1   \n",
              "\n",
              "               Curso_Identificador  Curso  UF_Nascimento  \\\n",
              "IdadeAbandono                                              \n",
              "18.0                            36     36             36   \n",
              "19.0                            41     41             41   \n",
              "20.0                            25     25             25   \n",
              "21.0                            20     20             20   \n",
              "22.0                            11     11             11   \n",
              "23.0                            10     10             10   \n",
              "24.0                             8      8              8   \n",
              "25.0                             2      2              2   \n",
              "26.0                             2      2              2   \n",
              "27.0                             2      2              2   \n",
              "28.0                             1      1              1   \n",
              "29.0                             2      2              2   \n",
              "30.0                             1      1              1   \n",
              "31.0                             1      1              1   \n",
              "32.0                             2      2              2   \n",
              "33.0                             3      3              3   \n",
              "36.0                             1      1              1   \n",
              "39.0                             1      1              1   \n",
              "46.0                             1      1              1   \n",
              "\n",
              "               Municipio_Nascimento  Admissao  Saida  Codigo_Situacao_Aluno  \\\n",
              "IdadeAbandono                                                                 \n",
              "18.0                             36        36     36                     36   \n",
              "19.0                             41        41     41                     41   \n",
              "20.0                             25        25     25                     25   \n",
              "21.0                             20        20     20                     20   \n",
              "22.0                             11        11     11                     11   \n",
              "23.0                             10        10     10                     10   \n",
              "24.0                              8         8      8                      8   \n",
              "25.0                              2         2      2                      2   \n",
              "26.0                              2         2      2                      2   \n",
              "27.0                              2         2      2                      2   \n",
              "28.0                              1         1      1                      1   \n",
              "29.0                              2         2      2                      2   \n",
              "30.0                              1         1      1                      1   \n",
              "31.0                              1         1      1                      1   \n",
              "32.0                              2         2      2                      2   \n",
              "33.0                              3         3      3                      3   \n",
              "36.0                              1         1      1                      1   \n",
              "39.0                              1         1      1                      1   \n",
              "46.0                              1         1      1                      1   \n",
              "\n",
              "               Situacao_Aluno  Situacao_Aluno_Agrupada  Modalidade_Inscrita  \\\n",
              "IdadeAbandono                                                                 \n",
              "18.0                       36                       36                   36   \n",
              "19.0                       41                       41                   41   \n",
              "20.0                       25                       25                   25   \n",
              "21.0                       20                       20                   20   \n",
              "22.0                       11                       11                   11   \n",
              "23.0                       10                       10                   10   \n",
              "24.0                        8                        8                    8   \n",
              "25.0                        2                        2                    2   \n",
              "26.0                        2                        2                    2   \n",
              "27.0                        2                        2                    2   \n",
              "28.0                        1                        1                    1   \n",
              "29.0                        2                        2                    2   \n",
              "30.0                        1                        1                    1   \n",
              "31.0                        1                        1                    1   \n",
              "32.0                        2                        2                    2   \n",
              "33.0                        3                        3                    3   \n",
              "36.0                        1                        1                    1   \n",
              "39.0                        1                        1                    1   \n",
              "46.0                        1                        1                    1   \n",
              "\n",
              "               ENEM  Num_Reprovacoes  Raca  CRA  \n",
              "IdadeAbandono                                    \n",
              "18.0             36               36    36   36  \n",
              "19.0             41               41    41   41  \n",
              "20.0             25               25    25   25  \n",
              "21.0             20               20    20   20  \n",
              "22.0             11               11    11   11  \n",
              "23.0             10               10    10   10  \n",
              "24.0              8                8     8    8  \n",
              "25.0              2                2     2    2  \n",
              "26.0              2                2     2    2  \n",
              "27.0              2                2     2    2  \n",
              "28.0              1                1     1    1  \n",
              "29.0              2                2     2    2  \n",
              "30.0              1                1     1    1  \n",
              "31.0              1                1     1    1  \n",
              "32.0              2                2     2    2  \n",
              "33.0              3                3     3    3  \n",
              "36.0              1                1     1    1  \n",
              "39.0              1                1     1    1  \n",
              "46.0              1                1     1    1  "
            ]
          },
          "execution_count": 41,
          "metadata": {},
          "output_type": "execute_result"
        }
      ],
      "source": [
        "import warnings\n",
        "warnings.filterwarnings(\"ignore\")\n",
        "\n",
        "def remove_suffix1(entry):\n",
        "    return entry.split('/1')[0]\n",
        "def remove_suffix2(entry):\n",
        "    return entry.split('/2')[0]\n",
        "df_cdc_abandono = df_cdc[df_cdc['Codigo_Situacao_Aluno'] == 'A']\n",
        "\n",
        "df_cdc_abandono['Saida'] = df_cdc_abandono['Saida'].apply(remove_suffix1)\n",
        "df_cdc_abandono['Saida'] = df_cdc_abandono['Saida'].apply(remove_suffix2)\n",
        "\n",
        "df_cdc_abandono = df_cdc_abandono[df_cdc_abandono['Saida'] != 0]\n",
        "df_cdc_abandono['Saida'] = df_cdc_abandono['Saida'].astype(float)\n",
        "df_cdc_abandono['IdadeAbandono'] = df_cdc_abandono['Saida'] - df_cdc_abandono['Ano_Nascimento']\n",
        "\n",
        "media = df_cdc_abandono['IdadeAbandono'].mean()\n",
        "print(\"Média da idade das pessoas que abandonaram o curso: \",media)\n",
        "\n",
        "groupIdade = df_cdc_abandono.groupby('IdadeAbandono').count()\n",
        "\n",
        "qntdIdade18_a_21 = groupIdade.head(4).sum()\n",
        "somaIdades = groupIdade.sum()[0]\n",
        "\n",
        "porcentagem_18_a_21 = (qntdIdade18_a_21/somaIdades) * 100\n",
        "print(\"Porcentagem de pessoas que abandonaram o curso que possuem entre 18 a 21 anos:\", porcentagem_18_a_21[0],\"%\\n\")\n",
        "groupIdade\n"
      ]
    },
    {
      "cell_type": "markdown",
      "id": "H4CFU2ZgdxYe",
      "metadata": {
        "id": "H4CFU2ZgdxYe"
      },
      "source": [
        "Vale analisar que a média da idade das pessoas que abandonaram o curso é de 21 anos.\n",
        "\n",
        "A quantidade de pessoas mais novas que abandonam o curso, por cerca de 18,19,20 e 21 são bem maiores do que as pessoas maiores de 23 anos, visto que, pelos cálculos, há 136 pessoas que abandonaram o curso estando nessas faixas de idade, em torno de 70.46% do total que abandonaram. Portanto, vale analisar, por meio desses dados, que as pessoas da faixa etária de jovens-adultos são os alunos que mais tendem a abandonar o curso."
      ]
    },
    {
      "cell_type": "markdown",
      "id": "pvIVG0l7gCYF",
      "metadata": {
        "id": "pvIVG0l7gCYF"
      },
      "source": [
        "## **Pergunta 8:**  Qual a relação entre a nota do ENEM e a evasão do curso?"
      ]
    },
    {
      "cell_type": "markdown",
      "id": "saPTg1WK2adu",
      "metadata": {
        "id": "saPTg1WK2adu"
      },
      "source": [
        "Para compreender se existe uma relação entre as duas variáveis e caso exista, o quão fortemente relacionandas elas são, usaremos uma regressão logística."
      ]
    },
    {
      "cell_type": "code",
      "execution_count": null,
      "id": "SIJLqc2H2lRU",
      "metadata": {
        "id": "SIJLqc2H2lRU"
      },
      "outputs": [],
      "source": [
        "df = df_filtro"
      ]
    },
    {
      "cell_type": "code",
      "execution_count": null,
      "id": "QhZMqT3ngGzF",
      "metadata": {
        "colab": {
          "base_uri": "https://localhost:8080/"
        },
        "id": "QhZMqT3ngGzF",
        "outputId": "8385d3af-4b66-4911-bd2c-44bf67c7a246"
      },
      "outputs": [
        {
          "name": "stdout",
          "output_type": "stream",
          "text": [
            "Optimization terminated successfully.\n",
            "         Current function value: 0.638854\n",
            "         Iterations 4\n",
            "                           Logit Regression Results                           \n",
            "==============================================================================\n",
            "Dep. Variable:           Situacao_Num   No. Observations:                54753\n",
            "Model:                          Logit   Df Residuals:                    54751\n",
            "Method:                           MLE   Df Model:                            1\n",
            "Date:                Sat, 08 Jul 2023   Pseudo R-squ.:                 0.07726\n",
            "Time:                        20:40:52   Log-Likelihood:                -34979.\n",
            "converged:                       True   LL-Null:                       -37908.\n",
            "Covariance Type:            nonrobust   LLR p-value:                     0.000\n",
            "==============================================================================\n",
            "                 coef    std err          z      P>|z|      [0.025      0.975]\n",
            "------------------------------------------------------------------------------\n",
            "const          0.6792      0.012     56.211      0.000       0.655       0.703\n",
            "ENEM          -0.0021   2.88e-05    -74.229      0.000      -0.002      -0.002\n",
            "==============================================================================\n",
            "\n",
            "R²: 0.0773\n",
            "F1 Score: 0.6959\n",
            "Odds Ratio: 0.9979\n"
          ]
        }
      ],
      "source": [
        "import statsmodels.api as sm\n",
        "from sklearn.metrics import accuracy_score, f1_score\n",
        "\n",
        "df['Situacao_Num'] = df['Situacao_Aluno_Agrupada'].map({'Evasão': 0, 'Conclusão': 1})\n",
        "df['ENEM'] = df['ENEM'].astype(float)\n",
        "\n",
        "# Realizar a regressão logística\n",
        "X = df[['ENEM']]\n",
        "X = sm.add_constant(X)  # Adicionar uma coluna de 1s para o termo de interceptação\n",
        "y = df['Situacao_Num']\n",
        "\n",
        "logit_model = sm.Logit(y, X)\n",
        "result = logit_model.fit()\n",
        "\n",
        "print(result.summary())\n",
        "print(f\"\\nR²: {result.prsquared:.4f}\")\n",
        "\n",
        "y_pred = result.predict(X) > 0.5  # Definir um limiar de 0.5 para a classificação\n",
        "accuracy = accuracy_score(y, y_pred)\n",
        "f1 = f1_score(y, y_pred)\n",
        "\n",
        "# Cálculo do odds ratio\n",
        "coef = result.params['ENEM']\n",
        "odds_ratio = np.exp(coef)\n",
        "\n",
        "print(f\"F1 Score: {f1:.4f}\")\n",
        "print(f\"Odds Ratio: {odds_ratio:.4f}\")"
      ]
    },
    {
      "cell_type": "markdown",
      "id": "VmnqnxXa5HdH",
      "metadata": {
        "id": "VmnqnxXa5HdH"
      },
      "source": [
        "Analisando as métricas do modelo podemos concluir que:\n",
        "\n",
        "1. O coeficiente de determinação, ou R², de 0.0773 indica que apenas cerca de 7,73% da variabilidade da variável dependente é explicada pelas variáveis independentes do modelo, ou seja, que a situação do aluno não é totalmente explicada pelas variáveis independentes incluídas no modelo de regressão logística. Em outras palavras, o valor de R² sugere que a nota do ENEM  tem um poder explicativo limitado na predição da situação do aluno (evasão ou conclusão). Isso significa que outros fatores além da nota do ENEM provavelmente têm um papel significativo na determinação da evasão ou conclusão dos alunos.\n",
        "\n",
        "2. O F1 Score de 0.6959 é uma medida da precisão do modelo na classificação correta dos dados. Ele é calculado com base na média harmônica da precisão (capacidade de prever corretamente as instâncias positivas) e da recall (capacidade de identificar corretamente as instâncias positivas). O valor de 0.6959 indica um desempenho moderado  do modelo na classificação correta das instâncias positivas.\n",
        "\n",
        "3. O valor de odds ratio de é uma medida usada em análise estatística para comparar a probabilidade de um evento ocorrer em um grupo em relação a outro grupo. Um valor de 0.9979 próximo a 1 indica que as chances do evento ocorrer são praticamente as mesmas nos dois grupos comparados. Isso sugere que não há uma diferença substancial nas chances do evento ocorrer entre os grupos.\n",
        "\n",
        "Em resumo, as métricas indicam que o modelo possui um baixo poder de explicação da variabilidade dos dados (R² baixo), um desempenho moderado na classificação (F1 Score moderado) e não há uma diferença significativa nas chances de o evento ocorrer entre os grupos (Odds Ratio próximo a 1).\n",
        "\n"
      ]
    },
    {
      "cell_type": "markdown",
      "id": "XVsm9XqioTW5",
      "metadata": {
        "id": "XVsm9XqioTW5"
      },
      "source": [
        "## **Pergunta 9**: Há evidências de que uma quantidade relevante de alunos que abandonaram o curso não são de Minas Gerais, estado onde os campus se localiza?\n",
        "\n"
      ]
    },
    {
      "cell_type": "markdown",
      "id": "1UKeUNc3_TSu",
      "metadata": {
        "id": "1UKeUNc3_TSu"
      },
      "source": [
        "Ao analisar a distribuição geográfica dos alunos que abandonaram o curso, podemos observar se há uma concentração significativa de alunos de outros estados em relação a Minas Gerais.\n"
      ]
    },
    {
      "cell_type": "code",
      "execution_count": null,
      "id": "dAoJERCPH-vZ",
      "metadata": {
        "id": "dAoJERCPH-vZ"
      },
      "outputs": [],
      "source": [
        "df = dados"
      ]
    },
    {
      "cell_type": "code",
      "execution_count": null,
      "id": "8MFhWu07IjxK",
      "metadata": {
        "colab": {
          "base_uri": "https://localhost:8080/"
        },
        "id": "8MFhWu07IjxK",
        "outputId": "8916e24d-2df7-4e76-9178-bf154cc36586"
      },
      "outputs": [
        {
          "data": {
            "text/plain": [
              "array(['CAV - Ciência da Computação', 'CAF - Ciência da Computação'],\n",
              "      dtype=object)"
            ]
          },
          "execution_count": 45,
          "metadata": {},
          "output_type": "execute_result"
        }
      ],
      "source": [
        "df['Curso'].unique()"
      ]
    },
    {
      "cell_type": "code",
      "execution_count": null,
      "id": "1xqmcQwPJe2I",
      "metadata": {
        "colab": {
          "base_uri": "https://localhost:8080/"
        },
        "id": "1xqmcQwPJe2I",
        "outputId": "b488f37d-a1db-4da1-a6a2-f981982d4777"
      },
      "outputs": [
        {
          "data": {
            "image/png": "[encoded data removed]",
            "text/plain": [
              "<Figure size 432x288 with 1 Axes>"
            ]
          },
          "metadata": {
            "needs_background": "light"
          },
          "output_type": "display_data"
        }
      ],
      "source": [
        "# Contagem de alunos por estado de nascimento\n",
        "estado_nascimento_counts = df['UF_Nascimento'].value_counts()\n",
        "\n",
        "# Gráfico de barras mostrando a distribuição geográfica\n",
        "estado_nascimento_counts.plot(kind='bar', color='orange', width=0.9)\n",
        "plt.xlabel('Estado de Nascimento')\n",
        "plt.ylabel('Quantidade')\n",
        "plt.title('Distribuição Geográfica dos Alunos de CDC em CAV e CAF')\n",
        "plt.show()"
      ]
    },
    {
      "cell_type": "code",
      "execution_count": null,
      "id": "hmFcHHfAKzRM",
      "metadata": {
        "colab": {
          "base_uri": "https://localhost:8080/"
        },
        "id": "hmFcHHfAKzRM",
        "outputId": "44ba6132-4126-44b2-8338-95a8569dbead"
      },
      "outputs": [
        {
          "name": "stdout",
          "output_type": "stream",
          "text": [
            "Quantidade de alunos que são de MG: 1299\n",
            "Quantidade de alunos que não são de MG: 291\n"
          ]
        }
      ],
      "source": [
        "df_mg = df[(df['UF_Nascimento'] == 'MG')]\n",
        "df_fora_mg = df[(df['UF_Nascimento'] != 'MG')]\n",
        "\n",
        "qtd_mg = df_mg['Identificador'].shape[0]\n",
        "qtd_fora_mg = df_fora_mg['Identificador'].shape[0]\n",
        "\n",
        "print(f'Quantidade de alunos que são de MG: {qtd_mg}')\n",
        "print(f'Quantidade de alunos que não são de MG: {qtd_fora_mg}')"
      ]
    },
    {
      "cell_type": "code",
      "execution_count": null,
      "id": "ymURaGpsMDHL",
      "metadata": {
        "colab": {
          "base_uri": "https://localhost:8080/"
        },
        "id": "ymURaGpsMDHL",
        "outputId": "8c1705f5-63bd-4977-81ea-1bfd245ca14f"
      },
      "outputs": [
        {
          "name": "stdout",
          "output_type": "stream",
          "text": [
            "Quantidade de alunos que evadiram e são de MG: 544\n",
            "Quantidade de alunos que evadiram e não são de MG: 104\n"
          ]
        }
      ],
      "source": [
        "qtd_evasao_mg = df_mg[df_mg['Situacao_Aluno_Agrupada'] == 'Evasão'].shape[0]\n",
        "qtd_evasao_nao_mg = df_fora_mg[df_fora_mg['Situacao_Aluno_Agrupada'] == 'Evasão'].shape[0]\n",
        "\n",
        "print(f'Quantidade de alunos que evadiram e são de MG: {qtd_evasao_mg}')\n",
        "print(f'Quantidade de alunos que evadiram e não são de MG: {qtd_evasao_nao_mg}')"
      ]
    },
    {
      "cell_type": "code",
      "execution_count": null,
      "id": "4ZQC98vEM2Dd",
      "metadata": {
        "colab": {
          "base_uri": "https://localhost:8080/"
        },
        "id": "4ZQC98vEM2Dd",
        "outputId": "63500a5a-f1d8-4d00-9d2c-bef07623dd25"
      },
      "outputs": [
        {
          "name": "stdout",
          "output_type": "stream",
          "text": [
            "Taxa de evasão dos alunos que são de MG: 0.4188\n",
            "Taxa de evasão dos alunos que não são de MG: 0.3574\n"
          ]
        }
      ],
      "source": [
        "taxa_evasao_mg = (qtd_evasao_mg / qtd_mg)\n",
        "taxa_evasao_fora_mg = (qtd_evasao_nao_mg / qtd_fora_mg)\n",
        "\n",
        "print(f'Taxa de evasão dos alunos que são de MG: {taxa_evasao_mg:.4f}')\n",
        "print(f'Taxa de evasão dos alunos que não são de MG: {taxa_evasao_fora_mg:.4f}')"
      ]
    },
    {
      "cell_type": "code",
      "execution_count": null,
      "id": "tphKCk2DOrQD",
      "metadata": {
        "colab": {
          "base_uri": "https://localhost:8080/"
        },
        "id": "tphKCk2DOrQD",
        "outputId": "61efe2a1-9bb3-4ce1-d19f-786b1c5ab77b"
      },
      "outputs": [
        {
          "data": {
            "image/png": "[encoded data removed]",
            "text/plain": [
              "<Figure size 432x288 with 1 Axes>"
            ]
          },
          "metadata": {
            "needs_background": "light"
          },
          "output_type": "display_data"
        }
      ],
      "source": [
        "taxas = [taxa_evasao_mg, taxa_evasao_fora_mg]\n",
        "categorias = ['Alunos de MG', 'Alunos não MG']\n",
        "\n",
        "plt.barh(categorias, taxas, height=0.5, color='DarkBlue')\n",
        "plt.title('Taxa de Evasão por Local de Nascimento')\n",
        "plt.xlabel('Local de Nascimento')\n",
        "plt.ylabel('Taxa de Evasão')\n",
        "\n",
        "plt.show()"
      ]
    },
    {
      "cell_type": "markdown",
      "source": [
        "> Como consideramos apenas os campus CAF e CAV, ao calcular a taxa de evasão foi possível observar que os alunos de MG evadem mais (cerca de 42%) do que os que não são de MG (cerca de 36%).  Porém esses percentuais de evasão são próximos, e analisando de uma visão social e geográfica pensamos que fatores como o histórico do curso (considerando as matérias que são estudadas, o nível de dificuldade, a diferença entre número de alunos que são de MG e os que não são e também a decisão de com quais dados trabalhamos, podem ter influenciado nesses resultados. Além de considerarmos que a região oferece outras oportunidades de estudo e o fato de que quem mora longe, já passou por uma grande mudança.\n"
      ],
      "metadata": {
        "id": "HCtbuFXPsrxU"
      },
      "id": "HCtbuFXPsrxU"
    },
    {
      "cell_type": "markdown",
      "id": "6e59cedb",
      "metadata": {
        "id": "6e59cedb"
      },
      "source": [
        "## Mapeamento dos dados"
      ]
    },
    {
      "cell_type": "code",
      "execution_count": null,
      "id": "279dd281",
      "metadata": {
        "id": "279dd281",
        "outputId": "0f187a05-404b-4b68-ad29-82a968f49e9d"
      },
      "outputs": [
        {
          "name": "stderr",
          "output_type": "stream",
          "text": [
            "C:\\Users\\cotoq\\AppData\\Local\\Temp\\ipykernel_17148\\1959357792.py:8: SettingWithCopyWarning: \n",
            "A value is trying to be set on a copy of a slice from a DataFrame.\n",
            "Try using .loc[row_indexer,col_indexer] = value instead\n",
            "\n",
            "See the caveats in the documentation: https://pandas.pydata.org/pandas-docs/stable/user_guide/indexing.html#returning-a-view-versus-a-copy\n",
            "  dados['Situacao_Aluno_Agrupada'] = df['Situacao_Aluno_Agrupada'].map(map_evasao)\n"
          ]
        }
      ],
      "source": [
        "#evadiu = 0\n",
        "#formou = 1\n",
        "dados = df_filtro[(df_filtro['Curso'] == 'CAF - Ciência da Computação') | (df_filtro['Curso'] == 'CAV - Ciência da Computação')]\n",
        "mean_value = dados.loc[dados['ENEM'] != -1, 'ENEM'].mean()\n",
        "\n",
        "map_evasao = {'Evasão': 0, 'Conclusão': 1}\n",
        "dados['Situacao_Aluno_Agrupada'] = df['Situacao_Aluno_Agrupada'].map(map_evasao)\n",
        "# Replace -1 values with the mean\n",
        "dados.loc[dados['ENEM'] == -1, 'ENEM'] = mean_value"
      ]
    },
    {
      "cell_type": "markdown",
      "id": "e7388290",
      "metadata": {
        "id": "e7388290"
      },
      "source": [
        "## Conjuntos de Teste"
      ]
    },
    {
      "cell_type": "code",
      "execution_count": null,
      "id": "c0fad75e",
      "metadata": {
        "id": "c0fad75e"
      },
      "outputs": [],
      "source": [
        "X1 = dados[['ENEM', 'Num_Reprovacoes', 'CRA']]\n",
        "X2 = dados[['Num_Reprovacoes','CRA']]\n",
        "X3 = dados[['Num_Reprovacoes','ENEM']]\n",
        "y = dados['Situacao_Aluno_Agrupada']"
      ]
    },
    {
      "cell_type": "markdown",
      "id": "HAhRxIWHUfy2",
      "metadata": {
        "id": "HAhRxIWHUfy2"
      },
      "source": [
        "## **Árvore de Decisões**"
      ]
    },
    {
      "cell_type": "code",
      "execution_count": null,
      "id": "71VCd6J_Uq1l",
      "metadata": {
        "id": "71VCd6J_Uq1l"
      },
      "outputs": [],
      "source": [
        "from sklearn.tree import DecisionTreeClassifier\n",
        "from sklearn.metrics import make_scorer, accuracy_score, f1_score\n",
        "from sklearn.model_selection import cross_validate\n",
        "\n",
        "\n",
        "def avaliar_modelos_arvore_decisao(X, y):\n",
        "    modelos = []\n",
        "\n",
        "    metricas = {\n",
        "        'accuracy': make_scorer(accuracy_score),\n",
        "        'f1': make_scorer(f1_score, average='weighted')\n",
        "    }\n",
        "\n",
        "    for i, X_atual in enumerate(X):\n",
        "        modelo = DecisionTreeClassifier(random_state=42)\n",
        "        scores = cross_validate(modelo, X_atual, y, cv=5, scoring=metricas)\n",
        "\n",
        "        modelos.append(modelo)\n",
        "\n",
        "        print(f\"\\nConjunto de Teste X{i+1}:\")\n",
        "        print(\"Acurácia:\", scores['test_accuracy'].mean())\n",
        "        print(\"F1-Score:\", scores['test_f1'].mean())\n",
        "        print(\"\\n------------------------------------------------------------\")\n",
        "\n",
        "    return modelos"
      ]
    },
    {
      "cell_type": "code",
      "execution_count": null,
      "id": "gY-ZFmM1UtjU",
      "metadata": {
        "colab": {
          "base_uri": "https://localhost:8080/",
          "height": 311
        },
        "id": "gY-ZFmM1UtjU",
        "outputId": "c3d2226f-7244-4c28-f72f-be7d469d4cef"
      },
      "outputs": [
        {
          "name": "stdout",
          "output_type": "stream",
          "text": [
            "\n",
            "Conjunto de Teste X1:\n",
            "Acurácia: 0.8661157024793388\n",
            "F1-Score: 0.8647139884534383\n",
            "\n",
            "------------------------------------------------------------\n",
            "\n",
            "Conjunto de Teste X2:\n",
            "Acurácia: 0.8702479338842976\n",
            "F1-Score: 0.8697459640639815\n",
            "\n",
            "------------------------------------------------------------\n",
            "\n",
            "Conjunto de Teste X3:\n",
            "Acurácia: 0.5933884297520662\n",
            "F1-Score: 0.5610202288607139\n",
            "\n",
            "------------------------------------------------------------\n"
          ]
        }
      ],
      "source": [
        "modelos = avaliar_modelos_arvore_decisao([X1, X2, X3], y)"
      ]
    },
    {
      "cell_type": "markdown",
      "id": "LdwMh-_cUgVQ",
      "metadata": {
        "id": "LdwMh-_cUgVQ"
      },
      "source": [
        "## **SVM**"
      ]
    },
    {
      "cell_type": "code",
      "execution_count": null,
      "id": "YbjR1cZPVOHS",
      "metadata": {
        "id": "YbjR1cZPVOHS"
      },
      "outputs": [],
      "source": [
        "from sklearn import svm\n",
        "from sklearn.model_selection import train_test_split\n",
        "from sklearn.metrics import precision_recall_fscore_support\n",
        "from sklearn.model_selection import cross_val_score\n",
        "from sklearn.metrics import classification_report\n",
        "from sklearn import svm\n",
        "import warnings\n",
        "warnings.filterwarnings('ignore')"
      ]
    },
    {
      "cell_type": "code",
      "execution_count": null,
      "id": "RtanFICgVQ-x",
      "metadata": {
        "id": "RtanFICgVQ-x",
        "outputId": "3922167e-55fd-438c-937c-0b55216cb119"
      },
      "outputs": [
        {
          "name": "stdout",
          "output_type": "stream",
          "text": [
            "\n",
            "Conjunto de Teste X1:\n",
            "Acurácia SVM: 0.9223 (± 0.0333)\n",
            "\n",
            "Conjunto de Teste X2:\n",
            "Acurácia SVM: 0.9223 (± 0.0332)\n",
            "\n",
            "Conjunto de Teste X3:\n",
            "Acurácia SVM: 0.6132 (± 0.0792)\n"
          ]
        }
      ],
      "source": [
        "warnings.filterwarnings('ignore')\n",
        "\n",
        "def avaliar_modelo_SVM(X_variables, y):\n",
        "    i = 0\n",
        "    for x in X_variables:\n",
        "        i += 1\n",
        "        svm_model = svm.SVC(kernel='linear', probability=True)\n",
        "\n",
        "        # Perform cross-validation\n",
        "        scores = cross_val_score(svm_model, x, y, cv=5)\n",
        "        svm_accuracy = scores.mean()\n",
        "        svm_accuracy_std = scores.std()\n",
        "\n",
        "        print(f\"\\nConjunto de Teste X{i}:\")\n",
        "        print('Acurácia SVM: {:.4f} (± {:.4f})'.format(svm_accuracy, svm_accuracy_std))\n",
        "\n",
        "\n",
        "\n",
        "X_variables = [X1, X2, X3]\n",
        "avaliar_modelo_SVM(X_variables, y)"
      ]
    },
    {
      "cell_type": "markdown",
      "id": "b9ff2b64",
      "metadata": {
        "id": "b9ff2b64"
      },
      "source": [
        "## KNN"
      ]
    },
    {
      "cell_type": "code",
      "execution_count": null,
      "id": "21f2f6f0",
      "metadata": {
        "id": "21f2f6f0",
        "outputId": "88a1e87a-ff8b-4ff2-dd25-4515424c465d"
      },
      "outputs": [
        {
          "name": "stdout",
          "output_type": "stream",
          "text": [
            "Conjunto de variáveis X1:\n",
            "\t-Precisão do modelo: 93.88%\n",
            "\t-Média da precisão com validação cruzada: 88.843%\n",
            "\n",
            "Conjunto de variáveis X2:\n",
            "\t-Precisão do modelo: 93.47%\n",
            "\t-Média da precisão com validação cruzada: 92.066%\n",
            "\n",
            "Conjunto de variáveis X3:\n",
            "\t-Precisão do modelo: 73.80%\n",
            "\t-Média da precisão com validação cruzada: 63.884%\n",
            "\n"
          ]
        }
      ],
      "source": [
        "from sklearn.neighbors import KNeighborsClassifier\n",
        "from sklearn.model_selection import cross_val_score\n",
        "\n",
        "X_variables = [X1, X2, X3]\n",
        "counter = 1\n",
        "knn = KNeighborsClassifier()\n",
        "for var in X_variables:\n",
        "    acc = cross_val_score(knn, var, y, cv=5)\n",
        "    print(f\"Conjunto de variáveis X{counter}:\")\n",
        "    knn.fit(var, y)\n",
        "\n",
        "    knn_Y_predicted = knn.predict(var)\n",
        "    knn_accuracy = np.sum(knn_Y_predicted == y) / len(y)\n",
        "\n",
        "    print('\\t-Precisão do modelo: {:.2f}%'.format(100 * knn_accuracy))\n",
        "    print(f\"\\t-Média da precisão com validação cruzada: {100 * np.mean(acc):.3f}%\\n\")\n",
        "    counter+=1"
      ]
    },
    {
      "cell_type": "code",
      "execution_count": null,
      "id": "a064cb53",
      "metadata": {
        "id": "a064cb53",
        "outputId": "18fa047d-7b6a-48ca-a6b4-d51a201280d0"
      },
      "outputs": [
        {
          "name": "stdout",
          "output_type": "stream",
          "text": [
            "<bound method NDFrame.describe of 1017     Conclusão\n",
            "1018     Conclusão\n",
            "1189     Conclusão\n",
            "1190     Conclusão\n",
            "1191     Conclusão\n",
            "           ...    \n",
            "73173       Evasão\n",
            "73231       Evasão\n",
            "73234       Evasão\n",
            "73317       Evasão\n",
            "73321       Evasão\n",
            "Name: Situacao_Aluno_Agrupada, Length: 1210, dtype: object>\n"
          ]
        }
      ],
      "source": [
        "print(y.describe)"
      ]
    },
    {
      "cell_type": "markdown",
      "id": "fe35fd93",
      "metadata": {
        "id": "fe35fd93"
      },
      "source": [
        "## Rede Neural"
      ]
    },
    {
      "cell_type": "code",
      "execution_count": null,
      "id": "f41b6664",
      "metadata": {
        "id": "f41b6664",
        "outputId": "bcb4c6c7-6b0b-4003-c074-bd00c16bfdeb"
      },
      "outputs": [
        {
          "name": "stdout",
          "output_type": "stream",
          "text": [
            "Training Model 1\n",
            "Accuracy for Model 1: 0.8512396812438965\n",
            "Training Model 2\n",
            "Accuracy for Model 2: 0.8429751992225647\n",
            "Training Model 3\n",
            "Accuracy for Model 3: 0.6322314143180847\n"
          ]
        }
      ],
      "source": [
        "\n",
        "from sklearn.model_selection import train_test_split\n",
        "from sklearn.preprocessing import StandardScaler\n",
        "import pandas as pd\n",
        "import numpy as np\n",
        "from tensorflow.keras.models import Sequential\n",
        "from tensorflow.keras.layers import Dense\n",
        "\n",
        "X_variables = [X1, X2, X3]\n",
        "\n",
        "for i, X in enumerate(X_variables):\n",
        "    X_train_split, X_val_split, y_train_split, y_val_split = train_test_split(X, y, test_size=0.2, random_state=42)\n",
        "\n",
        "    model = Sequential()\n",
        "    model.add(Dense(32, activation='relu', input_dim=X_train_split.shape[1]))\n",
        "    model.add(Dense(32, activation='relu'))\n",
        "    model.add(Dense(1, activation='sigmoid'))\n",
        "    model.compile(loss='binary_crossentropy', optimizer='adam', metrics=['accuracy'])\n",
        "\n",
        "    print(f\"Training Model {i+1}\")\n",
        "    model.fit(X_train_split, y_train_split, epochs=100, verbose=0, batch_size=32, validation_data=(X_val_split, y_val_split))\n",
        "    _, accuracy = model.evaluate(X_val_split, y_val_split, verbose=0)\n",
        "    print(f\"Accuracy for Model {i+1}: {accuracy}\")\n",
        "\n"
      ]
    },
    {
      "cell_type": "markdown",
      "id": "f27672a8",
      "metadata": {
        "id": "f27672a8"
      },
      "source": [
        "## Random Forest"
      ]
    },
    {
      "cell_type": "code",
      "execution_count": null,
      "id": "624d7537",
      "metadata": {
        "id": "624d7537",
        "outputId": "f634cd6d-10fc-47c3-a2d6-7cfcf56f8b7a"
      },
      "outputs": [
        {
          "name": "stdout",
          "output_type": "stream",
          "text": [
            "\n",
            "Conjunto de Teste X1:\n",
            "Acurácia Random Forest: 0.8975 (± 0.0301)\n",
            "\n",
            "Conjunto de Teste X2:\n",
            "Acurácia Random Forest: 0.8818 (± 0.0294)\n",
            "\n",
            "Conjunto de Teste X3:\n",
            "Acurácia Random Forest: 0.6198 (± 0.0649)\n"
          ]
        }
      ],
      "source": [
        "from sklearn.ensemble import RandomForestClassifier\n",
        "\n",
        "def avaliar_modelo_RF(X_variables, y):\n",
        "    i = 0\n",
        "    for x in X_variables:\n",
        "        i += 1\n",
        "        rf_model = RandomForestClassifier()\n",
        "\n",
        "        # Perform cross-validation\n",
        "        scores = cross_val_score(rf_model, x, y, cv=5)\n",
        "        rf_accuracy = scores.mean()\n",
        "        rf_accuracy_std = scores.std()\n",
        "\n",
        "        print(f\"\\nConjunto de Teste X{i}:\")\n",
        "        print('Acurácia Random Forest: {:.4f} (± {:.4f})'.format(rf_accuracy, rf_accuracy_std))\n",
        "\n",
        "X_variables = [X1, X2, X3]\n",
        "avaliar_modelo_RF(X_variables, y)"
      ]
    }
  ],
  "metadata": {
    "colab": {
      "provenance": []
    },
    "kernelspec": {
      "display_name": "Python 3 (ipykernel)",
      "language": "python",
      "name": "python3"
    },
    "language_info": {
      "codemirror_mode": {
        "name": "ipython",
        "version": 3
      },
      "file_extension": ".py",
      "mimetype": "text/x-python",
      "name": "python",
      "nbconvert_exporter": "python",
      "pygments_lexer": "ipython3",
      "version": "3.11.1"
    }
  },
  "nbformat": 4,
  "nbformat_minor": 5
}